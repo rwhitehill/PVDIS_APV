{
 "cells": [
  {
   "cell_type": "markdown",
   "id": "fcc36c0f",
   "metadata": {},
   "source": [
    "# LHAPDF"
   ]
  },
  {
   "cell_type": "code",
   "execution_count": 1,
   "id": "c9493a54",
   "metadata": {},
   "outputs": [
    {
     "name": "stderr",
     "output_type": "stream",
     "text": [
      "<ipython-input-1-efba3f212ec5>:10: MatplotlibDeprecationWarning: Support for setting an rcParam that expects a str value to a non-str value is deprecated since 3.5 and support will be removed two minor releases later.\n",
      "  matplotlib.rcParams['text.latex.preamble']=[r\"\\usepackage{amsmath}\"]\n",
      "Matplotlib created a temporary config/cache directory at /tmp/matplotlib-tjg2clq7 because the default path (/home/jovyan/.cache/matplotlib) is not a writable directory; it is highly recommended to set the MPLCONFIGDIR environment variable to a writable directory, in particular to speed up the import of Matplotlib and to better support multiprocessing.\n"
     ]
    }
   ],
   "source": [
    "import sys,os,time\n",
    "import pandas as pd\n",
    "import numpy as np\n",
    "from numba import jit\n",
    "import numba as nb\n",
    "from tqdm.notebook import tqdm\n",
    "\n",
    "from scipy.integrate import quad\n",
    "\n",
    "#--matplotlib\n",
    "import matplotlib\n",
    "matplotlib.rcParams['text.latex.preamble']=[r\"\\usepackage{amsmath}\"]\n",
    "matplotlib.rc('text',usetex=True)\n",
    "import pylab  as py\n",
    "from matplotlib.lines import Line2D\n",
    "from matplotlib.gridspec import GridSpec\n",
    "from scipy.interpolate import interp1d"
   ]
  },
  {
   "cell_type": "code",
   "execution_count": 2,
   "id": "660a9c96",
   "metadata": {},
   "outputs": [
    {
     "name": "stdout",
     "output_type": "stream",
     "text": [
      "\u001b[0m\u001b[01;34mABMP16_3_nlo\u001b[0m/                  JAM19PDF_proton_nlo.tar.gz\n",
      "ABMP16_3_nlo.tar               \u001b[01;34mJAM20PionPDFnlo\u001b[0m/\n",
      "ABMP16_3_nlo.tar.gz            \u001b[01;34mJAM20SIDIS\u001b[0m/\n",
      "ABMP16als116_5_nnlo.tar.gz     \u001b[01;34mJAM20-SIDIS_FF_hadron_nlo\u001b[0m/\n",
      "\u001b[01;34mATLAS-epWZ16-EIG\u001b[0m/              \u001b[01;34mJAM20-SIDIS_FF_kaon_nlo\u001b[0m/\n",
      "ATLAS-epWZ16-EIG.tar           \u001b[01;34mJAM20-SIDIS_FF_pion_nlo\u001b[0m/\n",
      "\u001b[01;34mCJ12max\u001b[0m/                       \u001b[01;34mJAM20-SIDIS_PDF_proton_nlo\u001b[0m/\n",
      "CJ12max.tar.gz                 \u001b[01;34mJAM22ffpion\u001b[0m/\n",
      "\u001b[01;34mCJ12mid\u001b[0m/                       \u001b[01;34mJAM22pdf\u001b[0m/\n",
      "CJ12mid.tar.gz                 \u001b[01;34mJAM22ppdf\u001b[0m/\n",
      "\u001b[01;34mCJ12min\u001b[0m/                       lhapdf.conf\n",
      "CJ12min.tar.gz                 \u001b[01;34m__MACOSX\u001b[0m/\n",
      "\u001b[01;34mCJ15nlo\u001b[0m/                       \u001b[01;34mMAPFF10NLOPIp\u001b[0m/\n",
      "CJ15nlo.tar.gz                 MAPFF10NLOPIp.tar.gz\n",
      "\u001b[01;34mCSKK_nnlo_EIG\u001b[0m/                 \u001b[01;34mMMHT2014nlo68cl\u001b[0m/\n",
      "CSKK_nnlo_EIG.tar              MMHT2014nlo68cl.tar\n",
      "CSKK_nnlo_EIG.tar.gz           MMHT2014nlo68cl.tar.gz\n",
      "\u001b[01;34mCT14nlo\u001b[0m/                       \u001b[01;34mmore\u001b[0m/\n",
      "CT14nlo.tar                    \u001b[01;34mNNFF10_KAp_nlo\u001b[0m/\n",
      "CT14nlo.tar.gz                 NNFF10_KAp_nlo.tar\n",
      "\u001b[01;34mCT18NLO\u001b[0m/                       \u001b[01;34mNNFF10_PIp_nlo\u001b[0m/\n",
      "\u001b[01;34mCT18NLO_as_0118\u001b[0m/               NNFF10_PIp_nlo.tar\n",
      "CT18NLO_as_0118.tar.gz         NNPDF23_lo_as_0130_qed.tar.gz\n",
      "CT18NLO.tar.gz                 \u001b[01;34mNNPDF30_nlo_as_0118\u001b[0m/\n",
      "\u001b[01;34mCT18NNLO\u001b[0m/                      NNPDF30_nlo_as_0118.tar\n",
      "CT18NNLO.tar.gz                \u001b[01;34mNNPDF31_nlo_as_0118\u001b[0m/\n",
      "\u001b[01;34mcteq66\u001b[0m/                        NNPDF31_nlo_as_0118.tar\n",
      "cteq66.tar.gz                  NNPDF31_nlo_as_0118.tar.gz\n",
      "\u001b[01;34mDSSV_REP_LHAPDF6\u001b[0m/              \u001b[01;34mNNPDF31_nnlo_as_0118\u001b[0m/\n",
      "EPPS16nlo_CT14nlo_W184.tar.gz  NNPDF31_nnlo_as_0118.tar.gz\n",
      "\u001b[01;34mHERAPDF20_NLO_EIG\u001b[0m/             \u001b[01;34mNNPDF31sx_nnlonllx_as_0118\u001b[0m/\n",
      "HERAPDF20_NLO_EIG.tar          NNPDF31sx_nnlonllx_as_0118.zip\n",
      "\u001b[01;34mJAM18PionPDFnlo\u001b[0m/               \u001b[01;34mNNPDF40_nlo_as_01180\u001b[0m/\n",
      "JAM18PionPDFnlo.tar            NNPDF40_nlo_as_01180.tar.gz\n",
      "\u001b[01;34mJAM19FF_pion_nlo\u001b[0m/              \u001b[01;34mnominal_SU23\u001b[0m/\n",
      "JAM19FF_pion_nlo.tar.gz        nstest\n",
      "\u001b[01;34mJAM19PDF_proton_nlo\u001b[0m/           pdfsets.index\n"
     ]
    }
   ],
   "source": [
    "ls /w/jam-sciwork18/apps/lhapdf_tables"
   ]
  },
  {
   "cell_type": "code",
   "execution_count": 3,
   "id": "d03f6fc9",
   "metadata": {},
   "outputs": [],
   "source": [
    "import lhapdf\n",
    "path=\"/w/jam-sciwork18/apps/lhapdf_tables\"\n",
    "os.environ[\"LHAPDF_DATA_PATH\"] = path\n",
    "# NNPDF=lhapdf.mkPDFs(\"NNPDF31_nlo_as_0118\")\n",
    "# NNPDF=lhapdf.mkPDFs(\"NNPDF40_nlo_as_01180\")\n",
    "# CT=lhapdf.mkPDFs(\"CT18NLO\")\n",
    "# MMHT=lhapdf.mkPDFs(\"MMHT2014nlo68cl\")\n",
    "JAM=lhapdf.mkPDFs(\"JAM22pdf\")"
   ]
  },
  {
   "cell_type": "code",
   "execution_count": 4,
   "id": "2488b9fe",
   "metadata": {},
   "outputs": [],
   "source": [
    "CT18=lhapdf.mkPDFs(\"CT18NLO\")"
   ]
  },
  {
   "cell_type": "code",
   "execution_count": 5,
   "id": "9e010c61",
   "metadata": {},
   "outputs": [
    {
     "data": {
      "text/plain": [
       "1057"
      ]
     },
     "execution_count": 5,
     "metadata": {},
     "output_type": "execute_result"
    }
   ],
   "source": [
    "len(JAM)"
   ]
  },
  {
   "cell_type": "code",
   "execution_count": 12,
   "id": "47f22723",
   "metadata": {},
   "outputs": [
    {
     "name": "stdout",
     "output_type": "stream",
     "text": [
      "0.6496622947984266\n",
      "0.004636525411537439\n"
     ]
    }
   ],
   "source": [
    "iflav=2\n",
    "x=0.1#,0.9\n",
    "Q2=10.0\n",
    "values=[CT18[_].xfxQ2(iflav,x,Q2) for _ in range(len(CT18))]\n",
    "print(np.mean(values))\n",
    "print(np.std(values))"
   ]
  },
  {
   "cell_type": "code",
   "execution_count": 13,
   "id": "62b16318",
   "metadata": {},
   "outputs": [],
   "source": []
  },
  {
   "cell_type": "code",
   "execution_count": 1,
   "id": "29203811",
   "metadata": {},
   "outputs": [
    {
     "ename": "NameError",
     "evalue": "name 'quad' is not defined",
     "output_type": "error",
     "traceback": [
      "\u001b[0;31m---------------------------------------------------------------------------\u001b[0m",
      "\u001b[0;31mNameError\u001b[0m                                 Traceback (most recent call last)",
      "\u001b[0;32m<ipython-input-1-bffbd364014d>\u001b[0m in \u001b[0;36m<module>\u001b[0;34m\u001b[0m\n\u001b[1;32m      1\u001b[0m \u001b[0mQ2\u001b[0m\u001b[0;34m=\u001b[0m\u001b[0;36m10\u001b[0m\u001b[0;34m\u001b[0m\u001b[0;34m\u001b[0m\u001b[0m\n\u001b[0;32m----> 2\u001b[0;31m \u001b[0mquad\u001b[0m\u001b[0;34m(\u001b[0m\u001b[0;32mlambda\u001b[0m \u001b[0mx\u001b[0m\u001b[0;34m:\u001b[0m \u001b[0;34m(\u001b[0m\u001b[0mJAM\u001b[0m\u001b[0;34m[\u001b[0m\u001b[0;36m0\u001b[0m\u001b[0;34m]\u001b[0m\u001b[0;34m.\u001b[0m\u001b[0mxfxQ2\u001b[0m\u001b[0;34m(\u001b[0m\u001b[0;36m2\u001b[0m\u001b[0;34m,\u001b[0m\u001b[0mx\u001b[0m\u001b[0;34m,\u001b[0m\u001b[0mQ2\u001b[0m\u001b[0;34m)\u001b[0m\u001b[0;34m-\u001b[0m\u001b[0mJAM\u001b[0m\u001b[0;34m[\u001b[0m\u001b[0;36m0\u001b[0m\u001b[0;34m]\u001b[0m\u001b[0;34m.\u001b[0m\u001b[0mxfxQ2\u001b[0m\u001b[0;34m(\u001b[0m\u001b[0;34m-\u001b[0m\u001b[0;36m2\u001b[0m\u001b[0;34m,\u001b[0m\u001b[0mx\u001b[0m\u001b[0;34m,\u001b[0m\u001b[0mQ2\u001b[0m\u001b[0;34m)\u001b[0m\u001b[0;34m)\u001b[0m\u001b[0;34m/\u001b[0m\u001b[0mx\u001b[0m\u001b[0;34m,\u001b[0m \u001b[0;36m0\u001b[0m\u001b[0;34m,\u001b[0m\u001b[0;36m1\u001b[0m \u001b[0;34m)\u001b[0m\u001b[0;34m[\u001b[0m\u001b[0;36m0\u001b[0m\u001b[0;34m]\u001b[0m\u001b[0;34m\u001b[0m\u001b[0;34m\u001b[0m\u001b[0m\n\u001b[0m",
      "\u001b[0;31mNameError\u001b[0m: name 'quad' is not defined"
     ]
    }
   ],
   "source": [
    "Q2=10\n",
    "quad(lambda x: (JAM[0].xfxQ2(2,x,Q2)-JAM[0].xfxQ2(-2,x,Q2))/x, 0,1 )[0]"
   ]
  },
  {
   "cell_type": "code",
   "execution_count": null,
   "id": "d1a5baea",
   "metadata": {},
   "outputs": [],
   "source": []
  },
  {
   "cell_type": "code",
   "execution_count": 15,
   "id": "21537f40",
   "metadata": {},
   "outputs": [
    {
     "data": {
      "image/png": "[encoded data removed]",
      "text/plain": [
       "<Figure size 432x288 with 1 Axes>"
      ]
     },
     "metadata": {
      "needs_background": "light"
     },
     "output_type": "display_data"
    }
   ],
   "source": []
  },
  {
   "cell_type": "code",
   "execution_count": null,
   "id": "a5f1baf6",
   "metadata": {},
   "outputs": [],
   "source": []
  },
  {
   "cell_type": "code",
   "execution_count": 30,
   "id": "cbed12a6",
   "metadata": {},
   "outputs": [
    {
     "data": {
      "image/png": "[encoded data removed]",
      "text/plain": [
       "<Figure size 432x288 with 1 Axes>"
      ]
     },
     "metadata": {
      "needs_background": "light"
     },
     "output_type": "display_data"
    }
   ],
   "source": [
    "nrows,ncols=1,1\n",
    "fig = py.figure(figsize=(ncols*6,nrows*4))\n",
    "ax=py.subplot(nrows,ncols,1);ax1=ax\n",
    "\n",
    "x=10**np.linspace(-2,np.log10(0.99))\n",
    "Q2=10\n",
    "for iset in range(len(JAM[:100])):\n",
    "    g =[JAM[iset].xfxQ2(0,_,Q2) for _ in x]\n",
    "    ax.plot(x,g,'g',alpha=0.3)\n",
    "ax.semilogx()\n",
    "ax.set_xlabel(r'$x$',size=30)  \n",
    "ax.set_ylabel(r'$xf(x)$',size=30) \n",
    "ax.tick_params(axis='both', which='major', labelsize=20,direction='in')\n",
    "py.show()"
   ]
  },
  {
   "cell_type": "code",
   "execution_count": 22,
   "id": "4f82cd0c",
   "metadata": {},
   "outputs": [],
   "source": [
    "def integrand(x):\n",
    "    return (JAM[0].xfxQ2(2,x,10)-JAM[0].xfxQ2(-2,x,10))/x"
   ]
  },
  {
   "cell_type": "code",
   "execution_count": 23,
   "id": "d34b23fe",
   "metadata": {},
   "outputs": [
    {
     "name": "stderr",
     "output_type": "stream",
     "text": [
      "<ipython-input-23-29ddc645ca99>:1: IntegrationWarning: The maximum number of subdivisions (50) has been achieved.\n",
      "  If increasing the limit yields no improvement it is advised to analyze \n",
      "  the integrand in order to determine the difficulties.  If the position of a \n",
      "  local difficulty can be determined (singularity, discontinuity) one will \n",
      "  probably gain from splitting up the interval and calling the integrator \n",
      "  on the subranges.  Perhaps a special-purpose integrator should be used.\n",
      "  quad(integrand,0,1)[0]\n"
     ]
    },
    {
     "data": {
      "text/plain": [
       "2.000064091387968"
      ]
     },
     "execution_count": 23,
     "metadata": {},
     "output_type": "execute_result"
    }
   ],
   "source": [
    "quad(integrand,0,1)[0]"
   ]
  },
  {
   "cell_type": "code",
   "execution_count": 24,
   "id": "49b3e63c",
   "metadata": {},
   "outputs": [],
   "source": [
    "@jit(nopython=True)\n",
    "def f():\n",
    "    y=0\n",
    "    for i in range(1000):\n",
    "        for j in range(1000):\n",
    "            y+=i*j\n",
    "    return y"
   ]
  },
  {
   "cell_type": "code",
   "execution_count": 25,
   "id": "68db4866",
   "metadata": {},
   "outputs": [
    {
     "data": {
      "text/plain": [
       "249500250000"
      ]
     },
     "execution_count": 25,
     "metadata": {},
     "output_type": "execute_result"
    }
   ],
   "source": [
    "f()"
   ]
  },
  {
   "cell_type": "code",
   "execution_count": 26,
   "id": "e95ea5c8",
   "metadata": {},
   "outputs": [],
   "source": [
    "#$@jit(nopython=True)\n",
    "def g():\n",
    "    y=0\n",
    "    for i in range(1000):\n",
    "        for j in range(1000):\n",
    "            y+=i*j\n",
    "    return y"
   ]
  },
  {
   "cell_type": "code",
   "execution_count": 27,
   "id": "cebb65ce",
   "metadata": {},
   "outputs": [
    {
     "name": "stdout",
     "output_type": "stream",
     "text": [
      "54.8 ms ± 714 µs per loop (mean ± std. dev. of 7 runs, 10 loops each)\n"
     ]
    }
   ],
   "source": [
    "%timeit g()"
   ]
  },
  {
   "cell_type": "code",
   "execution_count": 28,
   "id": "28052b49",
   "metadata": {},
   "outputs": [
    {
     "name": "stdout",
     "output_type": "stream",
     "text": [
      "141 ns ± 1.17 ns per loop (mean ± std. dev. of 7 runs, 10000000 loops each)\n"
     ]
    }
   ],
   "source": [
    "%timeit f()"
   ]
  },
  {
   "cell_type": "code",
   "execution_count": null,
   "id": "76135ba2",
   "metadata": {},
   "outputs": [],
   "source": []
  }
 ],
 "metadata": {
  "kernelspec": {
   "display_name": "Python 3",
   "language": "python",
   "name": "python3"
  },
  "language_info": {
   "codemirror_mode": {
    "name": "ipython",
    "version": 3
   },
   "file_extension": ".py",
   "mimetype": "text/x-python",
   "name": "python",
   "nbconvert_exporter": "python",
   "pygments_lexer": "ipython3",
   "version": "3.8.6"
  }
 },
 "nbformat": 4,
 "nbformat_minor": 5
}
