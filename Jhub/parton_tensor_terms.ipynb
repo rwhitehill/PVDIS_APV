{
 "cells": [
  {
   "cell_type": "code",
   "execution_count": 1,
   "id": "3328a9c6",
   "metadata": {},
   "outputs": [],
   "source": [
    "import sympy as sp\n",
    "\n",
    "import sys,os,subprocess\n",
    "sys.path.insert(0,'/work/JAM/apps/bin')\n",
    "os.environ[\"PATH\"]='/work/JAM/apps/bin:'+os.environ[\"PATH\"]\n",
    "from qgraf import QGRAF\n",
    "from form import FORM,to_sympy,run_form,run_form2,to_sympy\n",
    "from tools import checkdir,save,load,lprint,lpprint,evalf\n",
    "\n",
    "import sympy as sp\n",
    "from sympy.parsing.sympy_parser import parse_expr\n",
    "from sympy import mathematica_code as mcode\n",
    "from sympy.utilities.lambdify import lambdastr"
   ]
  },
  {
   "cell_type": "code",
   "execution_count": 5,
   "id": "3ec07697",
   "metadata": {},
   "outputs": [
    {
     "name": "stdout",
     "output_type": "stream",
     "text": [
      "1: + 8*p(o1)*p(o2)- 4*dot(p,q)*d_(o1,o2)\n",
      "\n",
      "2: - 4*e_(p,q,o1,o2)\n",
      "\n",
      "3: - 4*e_(S,p,o1,o2)- 4*e_(S,q,o1,o2)\n",
      "\n",
      "4: + 4*S(o1)*p(o2)+ 4*S(o2)*p(o1)- 4*dot(S,q)*d_(o1,o2)\n",
      "\n",
      "5: + 4*e_(S,p,o1,o2)\n",
      "\n",
      "6: - 4*S(o1)*p(o2)+ 4*S(o2)*p(o1)\n",
      "\n"
     ]
    }
   ],
   "source": [
    "code = '''\n",
    "Off Statistics;\n",
    "Autodeclare Index o;\n",
    "Index s;\n",
    "Symbols m,n;\n",
    "Vectors S,p,p1,q;\n",
    "Autodeclare Symbols a,v;\n",
    "Autodeclare Vector V;\n",
    "CFunction dot;\n",
    "\n",
    "L [test1] = g_(s,p)*g_(s,o1)*g_(s,p1)*g_(s,o2);\n",
    "L [test2] = g5_(s)*g_(s,p)*g_(s,o1)*g_(s,p1)*g_(s,o2);\n",
    "L [test3] = g5_(s)*g_(s,S)*g_(s,o1)*g_(s,p1)*g_(s,o2);\n",
    "L [test4] = g_(s,S)*g_(s,o1)*g_(s,p1)*g_(s,o2);\n",
    "L [test5] = g5_(s)*g_(s,S)*g_(s,p)*g_(s,o1)*g_(s,o2);\n",
    "L [test6] = g_(s,S)*g_(s,p)*g_(s,o1)*g_(s,o2);\n",
    "\n",
    "Trace4,s;\n",
    "contract;\n",
    "id p1 = p+q;\n",
    "id p.p = m^2;\n",
    "id p.S = 0;\n",
    "id V1?.V2? = dot(V1,V2);\n",
    "id V1?.V2?^n? = dot(V1,V2)^n;\n",
    "id V1?.V2?^-n? = dot(V1,V2)^-n;\n",
    "id m = 0;\n",
    "id q(o?) = 0;\n",
    "\n",
    "Print +s;\n",
    "'''\n",
    "data = run_form(code,verb=0)\n",
    "\n",
    "i = 0\n",
    "for key in data.keys():\n",
    "    i += 1\n",
    "    print('{}:'.format(i),data[key])\n",
    "    print()\n",
    "    \n",
    "# data = data.replace('S','s')\n",
    "# data = data.replace(r'p(o1)','pmu').replace(r'p(o2)','pnu')\n",
    "# data = data.replace(r'q(o1)','qmu').replace(r'q(o2)','qnu')\n",
    "# data = data.replace(r's(o1)','smu').replace(r's(o2)','snu')\n",
    "# data = data.replace(r'd_(o1,o2)','gmunu')\n",
    "# data = to_sympy(data)\n",
    "\n",
    "# pmu = sp.Symbol(r'p^{\\mu}')\n",
    "# pnu = sp.Symbol(r'p^{\\nu}')\n",
    "# qmu = sp.Symbol(r'q^{\\mu}')\n",
    "# qnu = sp.Symbol(r'q^{\\nu}')\n",
    "# smu = sp.Symbol(r's^{\\mu}')\n",
    "# snu = sp.Symbol(r's^{\\nu}')\n",
    "# gmunu = sp.Symbol(r'g^{\\mu\\nu}')\n",
    "\n",
    "# data = data.subs(r'pmu',pmu).subs(sp.Symbol(r'pnu'),pnu)\n",
    "# data = data.subs(r'qmu',qmu).subs(sp.Symbol(r'qnu'),qnu)\n",
    "# data = data.subs(r'smu',smu).subs(sp.Symbol(r'snu'),snu)\n",
    "# data = data.subs(r'gmunu',gmunu)\n",
    "# display(data)"
   ]
  },
  {
   "cell_type": "code",
   "execution_count": null,
   "id": "dc3ed1e1",
   "metadata": {},
   "outputs": [],
   "source": []
  }
 ],
 "metadata": {
  "kernelspec": {
   "display_name": "Python 3",
   "language": "python",
   "name": "python3"
  },
  "language_info": {
   "codemirror_mode": {
    "name": "ipython",
    "version": 3
   },
   "file_extension": ".py",
   "mimetype": "text/x-python",
   "name": "python",
   "nbconvert_exporter": "python",
   "pygments_lexer": "ipython3",
   "version": "3.8.6"
  }
 },
 "nbformat": 4,
 "nbformat_minor": 5
}
