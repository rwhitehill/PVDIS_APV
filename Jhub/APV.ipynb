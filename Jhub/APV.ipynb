{
 "cells": [
  {
   "cell_type": "code",
   "execution_count": 6,
   "id": "15a3f485",
   "metadata": {},
   "outputs": [],
   "source": [
    "import sympy as sp"
   ]
  },
  {
   "cell_type": "markdown",
   "id": "db8113b2",
   "metadata": {},
   "source": [
    "### variables"
   ]
  },
  {
   "cell_type": "code",
   "execution_count": 7,
   "id": "e9dfb9bd",
   "metadata": {},
   "outputs": [],
   "source": [
    "x    = sp.Symbol(r'x'        ,real=True,positive=True)\n",
    "y    = sp.Symbol(r'y'        ,real=True,positive=True)\n",
    "Q    = sp.Symbol(r'Q'        ,real=True,positive=True)\n",
    "alfa = sp.Symbol(r'\\alpha'   ,real=True,positive=True)\n",
    "gVq  = sp.Symbol(r'g_{V}^q'  ,real=True)\n",
    "gAq  = sp.Symbol(r'g_{A}^q'  ,real=True)\n",
    "gVe  = sp.Symbol(r'g_{V}^e'  ,real=True)\n",
    "gAe  = sp.Symbol(r'g_{A}^e'  ,real=True)\n",
    "MZ   = sp.Symbol(r'M_{Z}'    ,real=True,positive=True)\n",
    "eq   = sp.Symbol(r'e_{q}'    ,real=True)\n",
    "GF   = sp.Symbol(r'G_{F}'    ,real=True,positive=True)\n",
    "fp   = sp.Symbol(r'f_{q}^{+}',real=True)\n",
    "fm   = sp.Symbol(r'f_{q}^{-}',real=True)\n",
    "lam  = sp.Symbol(r'\\lambda'  ,real=True)"
   ]
  },
  {
   "cell_type": "markdown",
   "id": "c45fe462",
   "metadata": {},
   "source": [
    "### factors"
   ]
  },
  {
   "cell_type": "code",
   "execution_count": 8,
   "id": "3bb73fce",
   "metadata": {},
   "outputs": [],
   "source": [
    "front_factor = 4*sp.pi*alfa**2/Q**2/x/y\n",
    "eta_g        = 1\n",
    "eta_gZ       = (GF*MZ**2/sp.S(2*sp.sqrt(2))/sp.pi/alfa)*(Q**2/(Q**2+MZ**2))\n",
    "eta_Z        = eta_gZ**2"
   ]
  },
  {
   "cell_type": "markdown",
   "id": "528c1eda",
   "metadata": {},
   "source": [
    "### structure functions"
   ]
  },
  {
   "cell_type": "code",
   "execution_count": 9,
   "id": "e3dc14ca",
   "metadata": {},
   "outputs": [],
   "source": [
    "F1 = sp.Symbol(r'F_1^{\\rm NC}',real=True)\n",
    "F2 = sp.Symbol(r'F_2^{\\rm NC}',real=True)\n",
    "F3 = sp.Symbol(r'F_3^{\\rm NC}',real=True)\n",
    "\n",
    "F1_g  = sp.Symbol(r'F_1^{\\gamma}'  ,real=True)\n",
    "F1_gZ = sp.Symbol(r'F_1^{\\gamma Z}',real=True)\n",
    "F1_Z  = sp.Symbol(r'F_1^{Z}'       ,real=True)\n",
    "\n",
    "F2_g  = sp.Symbol(r'F_2^{\\gamma}'  ,real=True)\n",
    "F2_gZ = sp.Symbol(r'F_2^{\\gamma Z}',real=True)\n",
    "F2_Z  = sp.Symbol(r'F_2^{Z}'       ,real=True)\n",
    "\n",
    "F3_g  = 0#sp.Symbol(r'F_3^{\\gamma}'  ,real=True)\n",
    "F3_gZ = sp.Symbol(r'F_3^{\\gamma Z}',real=True)\n",
    "F3_Z  = sp.Symbol(r'F_3^{Z}'       ,real=True)"
   ]
  },
  {
   "cell_type": "markdown",
   "id": "01c51f21",
   "metadata": {},
   "source": [
    "### cross-sections"
   ]
  },
  {
   "cell_type": "code",
   "execution_count": 142,
   "id": "c02723f9",
   "metadata": {},
   "outputs": [
    {
     "data": {
      "text/latex": [
       "$\\displaystyle \\frac{G_{F} M_{Z}^{2} Q^{2} \\lambda y \\left(y - 2\\right) \\left(\\lambda g_{A}^e - g_{V}^e\\right) \\left(F_3^{Z} G_{F} M_{Z}^{2} Q^{2} \\left(\\lambda g_{A}^e - g_{V}^e\\right) - 2 \\sqrt{2} \\pi F_3^{\\gamma Z} \\alpha \\left(M_{Z}^{2} + Q^{2}\\right)\\right) + 2 y^{2} \\left(F_1^{Z} G_{F}^{2} M_{Z}^{4} Q^{4} \\left(\\lambda g_{A}^e - g_{V}^e\\right)^{2} - 2 \\sqrt{2} \\pi F_1^{\\gamma Z} G_{F} M_{Z}^{2} Q^{2} \\alpha \\left(M_{Z}^{2} + Q^{2}\\right) \\left(\\lambda g_{A}^e - g_{V}^e\\right) + 8 \\pi^{2} F_1^{\\gamma} \\alpha^{2} \\left(M_{Z}^{2} + Q^{2}\\right)^{2}\\right) - 4 \\left(y - 1\\right) \\left(F_1^{Z} G_{F}^{2} M_{Z}^{4} Q^{4} \\left(\\lambda g_{A}^e - g_{V}^e\\right)^{2} - 2 \\sqrt{2} \\pi F_1^{\\gamma Z} G_{F} M_{Z}^{2} Q^{2} \\alpha \\left(M_{Z}^{2} + Q^{2}\\right) \\left(\\lambda g_{A}^e - g_{V}^e\\right) + 8 \\pi^{2} F_1^{\\gamma} \\alpha^{2} \\left(M_{Z}^{2} + Q^{2}\\right)^{2}\\right)}{4 \\pi Q^{2} y \\left(M_{Z}^{2} + Q^{2}\\right)^{2}}$"
      ],
      "text/plain": [
       "(G_{F}*M_{Z}**2*Q**2*\\lambda*y*(y - 2)*(\\lambda*g_{A}^e - g_{V}^e)*(F_3^{Z}*G_{F}*M_{Z}**2*Q**2*(\\lambda*g_{A}^e - g_{V}^e) - 2*sqrt(2)*pi*F_3^{\\gamma Z}*\\alpha*(M_{Z}**2 + Q**2)) + 2*y**2*(F_1^{Z}*G_{F}**2*M_{Z}**4*Q**4*(\\lambda*g_{A}^e - g_{V}^e)**2 - 2*sqrt(2)*pi*F_1^{\\gamma Z}*G_{F}*M_{Z}**2*Q**2*\\alpha*(M_{Z}**2 + Q**2)*(\\lambda*g_{A}^e - g_{V}^e) + 8*pi**2*F_1^{\\gamma}*\\alpha**2*(M_{Z}**2 + Q**2)**2) - 4*(y - 1)*(F_1^{Z}*G_{F}**2*M_{Z}**4*Q**4*(\\lambda*g_{A}^e - g_{V}^e)**2 - 2*sqrt(2)*pi*F_1^{\\gamma Z}*G_{F}*M_{Z}**2*Q**2*\\alpha*(M_{Z}**2 + Q**2)*(\\lambda*g_{A}^e - g_{V}^e) + 8*pi**2*F_1^{\\gamma}*\\alpha**2*(M_{Z}**2 + Q**2)**2))/(4*pi*Q**2*y*(M_{Z}**2 + Q**2)**2)"
      ]
     },
     "execution_count": 142,
     "metadata": {},
     "output_type": "execute_result"
    }
   ],
   "source": [
    "dxsec = front_factor*(x*y**2*F1 + (1-y)*F2 - lam*x*(y-y**2/sp.S(2))*F3)\n",
    "dxsec = dxsec.subs(F2,2*x*F1)\n",
    "dxsec = dxsec.subs(F1,F1_g + eta_gZ*(gVe-lam*gAe)*F1_gZ + eta_Z*(gVe-lam*gAe)**2*F1_Z)\n",
    "dxsec = dxsec.subs(F3,F3_g + eta_gZ*(gVe-lam*gAe)*F3_gZ + eta_Z*(gVe-lam*gAe)**2*F3_Z)\n",
    "dxsec.simplify()"
   ]
  },
  {
   "cell_type": "code",
   "execution_count": 143,
   "id": "e053c064",
   "metadata": {},
   "outputs": [],
   "source": [
    "# dxsec_g  = front_factor*eta_g*(x*(1+(1-y)**2)*F1_g + lam*x*(y-y**2/sp.S(2))*F3_g)\n",
    "# dxsec_gZ = -front_factor*eta_gZ*(gVe-lam*gAe)*(x*(1+(1-y)**2)*F1_gZ + lam*x*(y-y**2/sp.S(2))*F3_gZ)\n",
    "# dxsec_Z  = front_factor*eta_Z*(gVe-lam*gAe)**2*(x*(1+(1-y)**2)*F1_Z + lam*x*(y-y**2/sp.S(2))*F3_Z)"
   ]
  },
  {
   "cell_type": "code",
   "execution_count": 144,
   "id": "1035a0ca",
   "metadata": {},
   "outputs": [],
   "source": [
    "# dxsec = dxsec_g + dxsec_gZ + dxsec_Z"
   ]
  },
  {
   "cell_type": "markdown",
   "id": "dd06a3e4",
   "metadata": {},
   "source": [
    "### Asymmetry"
   ]
  },
  {
   "cell_type": "code",
   "execution_count": 145,
   "id": "c6b21df9",
   "metadata": {},
   "outputs": [],
   "source": [
    "dxsec_R = dxsec.subs(lam,1)\n",
    "dxsec_L = dxsec.subs(lam,-1)"
   ]
  },
  {
   "cell_type": "code",
   "execution_count": 146,
   "id": "3c269fa0",
   "metadata": {},
   "outputs": [],
   "source": [
    "num = dxsec_R - dxsec_L\n",
    "den = dxsec_R + dxsec_L"
   ]
  },
  {
   "cell_type": "code",
   "execution_count": 147,
   "id": "7d0a0046",
   "metadata": {},
   "outputs": [],
   "source": [
    "APV = num/den"
   ]
  },
  {
   "cell_type": "code",
   "execution_count": 148,
   "id": "ab56b925",
   "metadata": {},
   "outputs": [],
   "source": [
    "eps = sp.Symbol(r'\\epsilon')\n",
    "APV = APV.subs(MZ,Q/eps).series(eps,0,1).removeO().simplify()\n",
    "APV = APV.subs(GF,eps*alfa).series(eps,0,2).removeO().subs(eps,GF/alfa).simplify()"
   ]
  },
  {
   "cell_type": "code",
   "execution_count": 149,
   "id": "cc65a760",
   "metadata": {},
   "outputs": [],
   "source": [
    "num,den = sp.fraction(APV)"
   ]
  },
  {
   "cell_type": "code",
   "execution_count": 150,
   "id": "2601635b",
   "metadata": {},
   "outputs": [
    {
     "data": {
      "text/latex": [
       "$\\displaystyle - \\sqrt{2} F_1^{\\gamma} G_{F} Q^{2} \\left(a_{1} \\left(y^{2} - 2 y + 2\\right) + a_{3} \\left(- y^{2} + 2 y\\right)\\right)$"
      ],
      "text/plain": [
       "-sqrt(2)*F_1^{\\gamma}*G_{F}*Q**2*(a_1*(y**2 - 2*y + 2) + a_3*(-y**2 + 2*y))"
      ]
     },
     "execution_count": 150,
     "metadata": {},
     "output_type": "execute_result"
    }
   ],
   "source": [
    "a1,a3 = sp.symbols(r'a_1 a_3',real=True)\n",
    "num = num.subs(F1_gZ,a1*F1_g/2/gAe).subs(F3_gZ,a3*F1_g/gVe).simplify()\n",
    "num.factor(a1,a3)"
   ]
  },
  {
   "cell_type": "code",
   "execution_count": 151,
   "id": "996d5bc3",
   "metadata": {},
   "outputs": [],
   "source": [
    "den = den#.cancel().simplify().factor(F1_gZ,F1_g,F3_gZ)#.subs(GF,0).factor()"
   ]
  },
  {
   "cell_type": "code",
   "execution_count": 153,
   "id": "41e92722",
   "metadata": {},
   "outputs": [
    {
     "data": {
      "text/latex": [
       "$\\displaystyle Y_{1} = 1$"
      ],
      "text/plain": [
       "Eq(Y_1, 1)"
      ]
     },
     "metadata": {},
     "output_type": "display_data"
    },
    {
     "data": {
      "text/latex": [
       "$\\displaystyle Y_{3} = - \\frac{y \\left(y - 2\\right)}{y^{2} - 2 y + 2}$"
      ],
      "text/plain": [
       "Eq(Y_3, -y*(y - 2)/(y**2 - 2*y + 2))"
      ]
     },
     "metadata": {},
     "output_type": "display_data"
    }
   ],
   "source": [
    "APV = (num/den).simplify()\n",
    "factor = -sp.sqrt(2)*GF*Q**2/sp.S(8)/sp.pi/alfa\n",
    "\n",
    "Y1 = sp.Symbol('Y_1')\n",
    "Y3 = sp.Symbol('Y_3')\n",
    "display(sp.Eq(Y1,APV.subs(a1,1).subs(a3,0).simplify()/factor))\n",
    "display(sp.Eq(Y3,APV.subs(a1,0).subs(a3,1).simplify()/factor))"
   ]
  },
  {
   "cell_type": "code",
   "execution_count": 15,
   "id": "4a26f5a7",
   "metadata": {},
   "outputs": [],
   "source": []
  },
  {
   "cell_type": "code",
   "execution_count": null,
   "id": "43924355",
   "metadata": {},
   "outputs": [],
   "source": []
  },
  {
   "cell_type": "code",
   "execution_count": null,
   "id": "38fc49be",
   "metadata": {},
   "outputs": [],
   "source": []
  },
  {
   "cell_type": "code",
   "execution_count": null,
   "id": "28c91db8",
   "metadata": {},
   "outputs": [],
   "source": []
  }
 ],
 "metadata": {
  "kernelspec": {
   "display_name": "Python 3",
   "language": "python",
   "name": "python3"
  },
  "language_info": {
   "codemirror_mode": {
    "name": "ipython",
    "version": 3
   },
   "file_extension": ".py",
   "mimetype": "text/x-python",
   "name": "python",
   "nbconvert_exporter": "python",
   "pygments_lexer": "ipython3",
   "version": "3.8.6"
  }
 },
 "nbformat": 4,
 "nbformat_minor": 5
}
