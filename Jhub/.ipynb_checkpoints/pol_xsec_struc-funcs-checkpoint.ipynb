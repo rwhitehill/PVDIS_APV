{
 "cells": [
  {
   "cell_type": "code",
   "execution_count": 1,
   "id": "ed64094c",
   "metadata": {},
   "outputs": [],
   "source": [
    "import sympy as sp\n",
    "\n",
    "import sys,os,subprocess\n",
    "sys.path.insert(0,'/work/JAM/apps/bin')\n",
    "os.environ[\"PATH\"]='/work/JAM/apps/bin:'+os.environ[\"PATH\"]\n",
    "from qgraf import QGRAF\n",
    "from form import FORM,to_sympy,run_form,run_form2,to_sympy\n",
    "from tools import checkdir,save,load,lprint,lpprint,evalf\n",
    "\n",
    "import sympy as sp\n",
    "from sympy.parsing.sympy_parser import parse_expr\n",
    "from sympy import mathematica_code as mcode\n",
    "from sympy.utilities.lambdify import lambdastr"
   ]
  },
  {
   "cell_type": "markdown",
   "id": "71bc7e59",
   "metadata": {},
   "source": [
    "# Derive Cross Section"
   ]
  },
  {
   "cell_type": "code",
   "execution_count": 2,
   "id": "d025d676",
   "metadata": {},
   "outputs": [
    {
     "name": "stdout",
     "output_type": "stream",
     "text": [
      "- 2*Q^2*h*x^-1*y^-2*g4 + 2*Q^2*h*x^-1*y^-1*g4 - 2*Q^2*h*g5 - 4*Q^2*lam*h*y^-1*g1 + 2*Q^2*lam*h*g1 - 4*M^2*h*x*y^-1*g4 + 4*M^2*h*x*y^-1*g3 + 6*M^2*h*x*g4 - 4*M^2*h*x*g3 - 4*M^2*h*x^2*y*g5 + 8*M^2*lam*h*x^2*g2 + 4*M^2*lam*h*x^2*y*g1 + 4*M^4*Q^-2*h*x^3*y*g4 - 4*M^4*Q^-2*h*x^3*y*g3\n"
     ]
    }
   ],
   "source": [
    "code = '''\n",
    "Off Statistics;\n",
    "Symbols M,Q,lam,E,h;\n",
    "Symbols x,y;\n",
    "Symbols n;\n",
    "Vectors P,q,S;\n",
    "Vectors Phat,Shat;\n",
    "Vectors l,lp;\n",
    "Autodeclare Vector V;\n",
    "Tensor ghat;\n",
    "Autodeclare Index o;\n",
    "Autodeclare Symbols F,g;\n",
    "Cfunction dot,e(antisymmetric);\n",
    "\n",
    "L [L] = 2*(l(o1)*lp(o2) + lp(o1)*l(o2) - l.lp*d_(o1,o2) - I_*lam*e(o1,o2,o3,o4)*l(o3)*lp(o4));\n",
    "L [W] = I_*e(o1,o2,o5,o6)*q(o5)*(S(o6)*g1 + (S(o6) - S.q/P.q*P(o6))*g2)/P.q\n",
    "        +(((P(o1) - P.q/q^2*q(o1))*(S(o2) - S.q/q^2*q(o2)) + (S(o1) - S.q/q^2*q(o1))*(P(o2) - P.q/q^2*q(o2)))/2 \n",
    "            - S.q/P.q*(P(o1) - P.q/q^2*q(o1))*(P(o2) - P.q/q^2*q(o2)))*g3/P.q\n",
    "        + S.q/P.q*((P(o1) - P.q/q^2*q(o1))*(P(o2) - P.q/q^2*q(o2))*g4/P.q -(d_(o1,o2) - q(o1)*q(o2)/q^2)*g5);\n",
    "\n",
    "L [LW] = [L]*[W];\n",
    "\n",
    "*contract;\n",
    "id e(o1,o2,o3?,o4?)*e(o1,o2,o5?,o6?) = -2*(d_(o3,o5)*d_(o4,o6) - d_(o3,o6)*d_(o4,o5));\n",
    "id lp = l - q;\n",
    "id P.S = 0;\n",
    "id P.P = M^2;\n",
    "id S.l = -h*E*M;*Q^2/2/x/y;\n",
    "id S.q = -h*E*M*(y+Q^2/2/E^2);*-h*Q^2/2/x*(1+2*x^2*y*M^2/Q^2);\n",
    "id E = Q^2/2/M/x/y;\n",
    "id E^n? = (Q^2/2/M/x/y)^n;\n",
    "id E^-n? = (Q^2/2/M/x/y)^-n;\n",
    "id l.l = 0;\n",
    "id q.q = -Q^2;\n",
    "id P.l = P.q/y;\n",
    "id P.q = Q^2/2/x;\n",
    "id P.q^-1 = 2*x/Q^2;\n",
    "id q.l = -Q^2/2;\n",
    "id V1?.V2? = dot(V1,V2);\n",
    "id V1?.V2?^n? = (dot(V1,V2))^n;\n",
    "id V1?.V2?^-n? = (dot(V1,V2))^-n;\n",
    "\n",
    "print [LW];\n",
    "'''\n",
    "data = run_form(code,verb=0)\n",
    "print(data['LW'])\n",
    "data['LW'] = data['LW'].replace(r'Q','q').replace('E','e').replace('S','s')\n",
    "data['LW'] = data['LW'].replace(r'sqrt_','sqrt')\n",
    "data['LW'] = to_sympy(data['LW'])\n",
    "\n",
    "lam  = sp.symbols(r'\\lambda')\n",
    "h    = sp.symbols(r'h')\n",
    "M    = sp.symbols(r'M')\n",
    "Q    = sp.symbols(r'Q')\n",
    "E    = sp.symbols(r'E')\n",
    "x    = sp.symbols(r'x')\n",
    "y    = sp.symbols(r'y')\n",
    "alfa = sp.symbols(r'\\alpha')\n",
    "F1,F2,F3       = sp.symbols('F_1 F_2 F_3')\n",
    "g1,g2,g3,g4,g5 = sp.symbols('g_1 g_2 g_3 g_4 g_5')\n",
    "\n",
    "\n",
    "data['LW'] = data['LW'].subs(r'lam',lam)\n",
    "data['LW'] = data['LW'].subs('q',Q).subs('e',E)\n",
    "data['LW'] = data['LW'].subs(sp.Symbol('F1'),F1).subs(sp.Symbol('F2'),F2).subs(sp.Symbol('F3'),F3)\n",
    "data['LW'] = data['LW'].subs(sp.Symbol('g1'),g1).subs(sp.Symbol('g2'),g2).subs(sp.Symbol('g3'),g3).subs(sp.Symbol('g4'),g4).subs(sp.Symbol('g5'),g5)"
   ]
  },
  {
   "cell_type": "code",
   "execution_count": 3,
   "id": "2b16afcb",
   "metadata": {},
   "outputs": [
    {
     "data": {
      "text/latex": [
       "$\\displaystyle \\lambda x y \\left(- y \\left(2 \\left(\\frac{M}{Q}\\right)^{2} x^{2} y + 1\\right) + 2\\right)$"
      ],
      "text/plain": [
       "\\lambda*x*y*(-y*(2*\\left(\\frac{M}{Q}\\right)**2*x**2*y + 1) + 2)"
      ]
     },
     "metadata": {},
     "output_type": "display_data"
    },
    {
     "data": {
      "text/latex": [
       "$\\displaystyle - 4 \\lambda \\left(\\frac{M}{Q}\\right)^{2} x^{3} y^{2}$"
      ],
      "text/plain": [
       "-4*\\lambda*\\left(\\frac{M}{Q}\\right)**2*x**3*y**2"
      ]
     },
     "metadata": {},
     "output_type": "display_data"
    },
    {
     "data": {
      "text/latex": [
       "$\\displaystyle 2 \\left(\\frac{M}{Q}\\right)^{2} x^{2} y \\left(\\left(\\frac{M}{Q}\\right)^{2} x^{2} y^{2} + y - 1\\right)$"
      ],
      "text/plain": [
       "2*\\left(\\frac{M}{Q}\\right)**2*x**2*y*(\\left(\\frac{M}{Q}\\right)**2*x**2*y**2 + y - 1)"
      ]
     },
     "metadata": {},
     "output_type": "display_data"
    },
    {
     "data": {
      "text/latex": [
       "$\\displaystyle - \\left(2 \\left(\\frac{M}{Q}\\right)^{2} x^{2} y + 1\\right) \\left(\\left(\\frac{M}{Q}\\right)^{2} x^{2} y^{2} + y - 1\\right)$"
      ],
      "text/plain": [
       "-(2*\\left(\\frac{M}{Q}\\right)**2*x**2*y + 1)*(\\left(\\frac{M}{Q}\\right)**2*x**2*y**2 + y - 1)"
      ]
     },
     "metadata": {},
     "output_type": "display_data"
    },
    {
     "data": {
      "text/latex": [
       "$\\displaystyle x y^{2} \\cdot \\left(2 \\left(\\frac{M}{Q}\\right)^{2} x^{2} y + 1\\right)$"
      ],
      "text/plain": [
       "x*y**2*(2*\\left(\\frac{M}{Q}\\right)**2*x**2*y + 1)"
      ]
     },
     "metadata": {},
     "output_type": "display_data"
    }
   ],
   "source": [
    "pol = (data['LW'].subs(h,-1) - data['LW'].subs(h,1))#/sp.S(2)\n",
    "\n",
    "factor1  = 2*sp.pi*y*alfa**2/Q**4\n",
    "factor2 = 8*sp.pi*alfa**2/x/y/Q**2\n",
    "\n",
    "factor = factor1/factor2\n",
    "\n",
    "M_Q = sp.Symbol(r'\\left(\\frac{M}{Q}\\right)')\n",
    "\n",
    "coeff4 = factor*pol.subs(g1,1).subs(g2,0).subs(g3,0).subs(g4,0).subs(g5,0).subs(M,Q*M_Q)\n",
    "coeff5 = factor*pol.subs(g1,0).subs(g2,1).subs(g3,0).subs(g4,0).subs(g5,0).subs(M,Q*M_Q)\n",
    "coeff6 = factor*pol.subs(g1,0).subs(g2,0).subs(g3,1).subs(g4,0).subs(g5,0).subs(M,Q*M_Q)\n",
    "coeff7 = factor*pol.subs(g1,0).subs(g2,0).subs(g3,0).subs(g4,1).subs(g5,0).subs(M,Q*M_Q)\n",
    "coeff8 = factor*pol.subs(g1,0).subs(g2,0).subs(g3,0).subs(g4,0).subs(g5,1).subs(M,Q*M_Q)\n",
    "\n",
    "display(coeff4.simplify())\n",
    "display(coeff5.simplify())\n",
    "display(coeff6.simplify())\n",
    "display(coeff7.simplify().factor(x,y))\n",
    "display(coeff8.simplify().factor(x,y))"
   ]
  },
  {
   "cell_type": "markdown",
   "id": "f6fafa65",
   "metadata": {},
   "source": [
    "# Derive Projectors"
   ]
  },
  {
   "cell_type": "code",
   "execution_count": 32,
   "id": "41338187",
   "metadata": {},
   "outputs": [
    {
     "data": {
      "text/latex": [
       "$\\displaystyle - \\frac{g_{4} - 6 g_{5} x}{2 x}$"
      ],
      "text/plain": [
       "-(g_4 - 6*g_5*x)/(2*x)"
      ]
     },
     "metadata": {},
     "output_type": "display_data"
    },
    {
     "data": {
      "text/latex": [
       "$\\displaystyle - \\frac{Q^{2} \\left(g_{4} - 2 g_{5} x\\right)}{8 x^{3}}$"
      ],
      "text/plain": [
       "-Q**2*(g_4 - 2*g_5*x)/(8*x**3)"
      ]
     },
     "metadata": {},
     "output_type": "display_data"
    },
    {
     "data": {
      "text/latex": [
       "$\\displaystyle \\frac{Q^{2} g_{1}}{x}$"
      ],
      "text/plain": [
       "Q**2*g_1/x"
      ]
     },
     "metadata": {},
     "output_type": "display_data"
    }
   ],
   "source": [
    "code = '''\n",
    "Off Statistics;\n",
    "Symbols M,Q,E;\n",
    "Symbols lam,h;\n",
    "Symbols x,y;\n",
    "Symbols n;\n",
    "Vectors P,q,S;\n",
    "Vectors Phat,Shat;\n",
    "Autodeclare Vector V;\n",
    "Autodeclare Index o;\n",
    "Autodeclare Symbols g;\n",
    "Cfunction dot,e(antisymmetric);\n",
    "\n",
    "L [Wp] = I_*e(o1,o2,o3,o4)*q(o3)/P.q*(S(o4)*g1 + (S(o4) - S.q/P.q*P(o4))*g2)\n",
    "            + (((P(o1)+P.q/Q^2*q(o1))*(S(o2)+S.q/Q^2*q(o2)) \n",
    "                    + (S(o1)+S.q/Q^2*q(o1))*(P(o2)+P.q/Q^2*q(o2)))/2 - S.q/P.q*(P(o1)+P.q/Q^2*q(o1))*(P(o2)+P.q/Q^2*q(o2)))*g3/P.q\n",
    "            + S.q/P.q*((P(o1)+P.q/Q^2*q(o1))*(P(o2)+P.q/Q^2*q(o2))*g4/P.q - (d_(o1,o2) + q(o1)*q(o2)/Q^2)*g5);\n",
    "\n",
    "L [Pg]   = d_(o1,o2)*[Wp];\n",
    "L [Ppp]  = P(o1)*P(o2)*[Wp];\n",
    "*L [Pss]  = S(o1)*S(o2)*[Wp];\n",
    "L [Pps]  = (P(o1)*S(o2)+S(o1)*P(o2))*[Wp];\n",
    "L [Pepq] = I_*e(o1,o2,o5,o6)*q(o5)*P(o6)*[Wp];\n",
    "L [Peqs] = I_*e(o1,o2,o5,o6)*q(o5)*S(o6)*[Wp];\n",
    "\n",
    "*contract;\n",
    "id e(o1,o2,o3?,o4?)*e(o1,o2,o5?,o6?) = -2*(d_(o3,o5)*d_(o4,o6) - d_(o3,o6)*d_(o4,o5));\n",
    "id q.q = -Q^2;\n",
    "id P.P = M^2;\n",
    "id P.q = Q^2/2/x;\n",
    "id P.q^-1 = 2*x/Q^2;\n",
    "id P.S = 0;\n",
    "id S.S = -M^2;\n",
    "id S.q = -h*E*M*(y+Q^2/2/E^2);\n",
    "id E = Q^2/2/M/x/y;\n",
    "id E^n? = (Q^2/2/M/x/y)^n;\n",
    "id E^-n? = (Q^2/2/M/x/y)^-n;\n",
    "id M = 0;\n",
    "id V1?.V2? = dot(V1,V2);\n",
    "id V1?.V2?^n? = (dot(V1,V2))^(n);\n",
    "\n",
    "*print [Wp];\n",
    "print [Pg];\n",
    "print [Ppp];\n",
    "*print [Pss];\n",
    "*print [Pps];\n",
    "print [Pepq];\n",
    "*print [Peqs];\n",
    "'''\n",
    "data = run_form(code,verb=0)\n",
    "\n",
    "lam  = sp.symbols(r'\\lambda')\n",
    "h    = sp.symbols(r'h')\n",
    "M = sp.symbols(r'M')\n",
    "Q = sp.symbols(r'Q')\n",
    "x = sp.symbols(r'x')\n",
    "y = sp.symbols(r'y')\n",
    "# F1,F2,F3 = sp.symbols('F_1 F_2 F_3')\n",
    "g1,g2,g3,g4,g5 = sp.symbols('g_1 g_2 g_3 g_4 g_5')\n",
    "\n",
    "for _ in data:\n",
    "    data[_] = data[_].replace(r'0;','0')\n",
    "    data[_] = data[_].replace(r'Q','q')\n",
    "    data[_] = data[_].replace(r'sqrt_','sqrt')\n",
    "    data[_] = to_sympy(data[_])\n",
    "    data[_] = data[_].subs('q',Q)\n",
    "    data[_] = data[_].subs('M',M)\n",
    "    data[_] = data[_].subs('g1',g1).subs('g2',g2).subs('g3',g3).subs('g4',g4).subs('g5',g5)\n",
    "    data[_] = data[_].simplify().factor(g1,g2,g3,g4,g5)\n",
    "    data[_] = data[_].subs(h,1)\n",
    "    display(data[_])"
   ]
  },
  {
   "cell_type": "markdown",
   "id": "2d8db872",
   "metadata": {},
   "source": [
    "$g_1$ projection"
   ]
  },
  {
   "cell_type": "code",
   "execution_count": 36,
   "id": "37a5ab82",
   "metadata": {},
   "outputs": [
    {
     "data": {
      "text/latex": [
       "$\\displaystyle a_{1}^{epq} = \\frac{x}{Q^{2}}$"
      ],
      "text/plain": [
       "Eq(a_{1}^{epq}, x/Q**2)"
      ]
     },
     "metadata": {},
     "output_type": "display_data"
    },
    {
     "data": {
      "text/latex": [
       "$\\displaystyle a_{1}^{g} = 0$"
      ],
      "text/plain": [
       "Eq(a_{1}^{g}, 0)"
      ]
     },
     "metadata": {},
     "output_type": "display_data"
    },
    {
     "data": {
      "text/latex": [
       "$\\displaystyle a_{1}^{pp} = 0$"
      ],
      "text/plain": [
       "Eq(a_{1}^{pp}, 0)"
      ]
     },
     "metadata": {},
     "output_type": "display_data"
    }
   ],
   "source": [
    "a1g,a1pp,a1epq = sp.symbols(r'a_{1}^{g} a_{1}^{pp} a_{1}^{epq}') # a1ps a1eqs \n",
    "expr = a1g*data['Pg'] + a1pp*data['Ppp'] + a1epq*data['Pepq'] # + a1ps*data['Pps'] + a1eqs*data['Peqs']\n",
    "\n",
    "eq1 = sp.Eq(expr.subs(g1,1).subs(g2,0).subs(g3,0).subs(g4,0).subs(g5,0),1)\n",
    "# eq2 = sp.Eq(expr.subs(g1,0).subs(g2,1).subs(g3,0).subs(g4,0).subs(g5,0),0)\n",
    "# eq3 = sp.Eq(expr.subs(g1,0).subs(g2,0).subs(g3,1).subs(g4,0).subs(g5,0),0)\n",
    "eq4 = sp.Eq(expr.subs(g1,0).subs(g2,0).subs(g3,0).subs(g4,1).subs(g5,0),0)\n",
    "eq5 = sp.Eq(expr.subs(g1,0).subs(g2,0).subs(g3,0).subs(g4,0).subs(g5,1),0)\n",
    "\n",
    "sol = sp.solve([eq1,eq4,eq5],[a1g,a1pp,a1epq])#,a1eqs])\n",
    "for _ in sol.keys():\n",
    "    sol[_] = sol[_].simplify().factor()#.subs(M,0)\n",
    "    display(sp.Eq(_,sol[_]))"
   ]
  },
  {
   "cell_type": "markdown",
   "id": "6caba599",
   "metadata": {},
   "source": [
    "$g_2$ projection"
   ]
  },
  {
   "cell_type": "code",
   "execution_count": 38,
   "id": "2852459f",
   "metadata": {},
   "outputs": [
    {
     "data": {
      "text/latex": [
       "$\\displaystyle a_{2}^{epq} = 0$"
      ],
      "text/plain": [
       "Eq(a_{2}^{epq}, 0)"
      ]
     },
     "metadata": {},
     "output_type": "display_data"
    },
    {
     "data": {
      "text/latex": [
       "$\\displaystyle a_{2}^{g} = 0$"
      ],
      "text/plain": [
       "Eq(a_{2}^{g}, 0)"
      ]
     },
     "metadata": {},
     "output_type": "display_data"
    },
    {
     "data": {
      "text/latex": [
       "$\\displaystyle a_{2}^{pp} = 0$"
      ],
      "text/plain": [
       "Eq(a_{2}^{pp}, 0)"
      ]
     },
     "metadata": {},
     "output_type": "display_data"
    }
   ],
   "source": [
    "a2g,a2pp,a2epq = sp.symbols(r'a_{2}^{g} a_{2}^{pp} a_{2}^{epq}')\n",
    "expr = a2g*data['Pg'] + a2pp*data['Ppp'] + a2epq*data['Pepq'] # + a2eps*data['Peps'] + a2ps*data['Pps']\n",
    "\n",
    "eq1 = sp.Eq(expr.subs(g1,1).subs(g2,0).subs(g3,0).subs(g4,0).subs(g5,0),0)\n",
    "# eq2 = sp.Eq(expr.subs(g1,0).subs(g2,1).subs(g3,0).subs(g4,0).subs(g5,0),1)\n",
    "# eq3 = sp.Eq(expr.subs(g1,0).subs(g2,0).subs(g3,1).subs(g4,0).subs(g5,0),0)\n",
    "eq4 = sp.Eq(expr.subs(g1,0).subs(g2,0).subs(g3,0).subs(g4,1).subs(g5,0),0)\n",
    "eq5 = sp.Eq(expr.subs(g1,0).subs(g2,0).subs(g3,0).subs(g4,0).subs(g5,1),0)\n",
    "\n",
    "sol = sp.solve([eq1,eq4,eq5],[a2g,a2pp,a2epq])\n",
    "for _ in sol.keys():\n",
    "    sol[_] = sol[_].simplify().factor()#.subs(M,0)\n",
    "    display(sp.Eq(_,sol[_]))"
   ]
  },
  {
   "cell_type": "markdown",
   "id": "3df4b3d2",
   "metadata": {},
   "source": [
    "$g_3$ projection"
   ]
  },
  {
   "cell_type": "code",
   "execution_count": 40,
   "id": "97b6e8ca",
   "metadata": {},
   "outputs": [
    {
     "data": {
      "text/latex": [
       "$\\displaystyle a_{3}^{epq} = 0$"
      ],
      "text/plain": [
       "Eq(a_{3}^{epq}, 0)"
      ]
     },
     "metadata": {},
     "output_type": "display_data"
    },
    {
     "data": {
      "text/latex": [
       "$\\displaystyle a_{3}^{g} = 0$"
      ],
      "text/plain": [
       "Eq(a_{3}^{g}, 0)"
      ]
     },
     "metadata": {},
     "output_type": "display_data"
    },
    {
     "data": {
      "text/latex": [
       "$\\displaystyle a_{3}^{pp} = 0$"
      ],
      "text/plain": [
       "Eq(a_{3}^{pp}, 0)"
      ]
     },
     "metadata": {},
     "output_type": "display_data"
    }
   ],
   "source": [
    "a3g,a3pp,a3epq = sp.symbols(r'a_{3}^{g} a_{3}^{pp} a_{3}^{epq}')\n",
    "expr = a3g*data['Pg'] + a3pp*data['Ppp'] + a3epq*data['Pepq']\n",
    "\n",
    "eq1 = sp.Eq(expr.subs(g1,1).subs(g2,0).subs(g3,0).subs(g4,0).subs(g5,0),0)\n",
    "# eq2 = sp.Eq(expr.subs(g1,0).subs(g2,1).subs(g3,0).subs(g4,0).subs(g5,0),0)\n",
    "# eq3 = sp.Eq(expr.subs(g1,0).subs(g2,0).subs(g3,1).subs(g4,0).subs(g5,0),1)\n",
    "eq4 = sp.Eq(expr.subs(g1,0).subs(g2,0).subs(g3,0).subs(g4,1).subs(g5,0),0)\n",
    "eq5 = sp.Eq(expr.subs(g1,0).subs(g2,0).subs(g3,0).subs(g4,0).subs(g5,1),0)\n",
    "\n",
    "sol = sp.solve([eq1,eq4,eq5],[a3g,a3pp,a3epq])\n",
    "for _ in sol.keys():\n",
    "    sol[_] = sol[_].simplify().factor()#.subs(M,0)\n",
    "    display(sp.Eq(_,sol[_]))"
   ]
  },
  {
   "cell_type": "markdown",
   "id": "c25074b1",
   "metadata": {},
   "source": [
    "$g_4$ projection"
   ]
  },
  {
   "cell_type": "code",
   "execution_count": 42,
   "id": "c47d2245",
   "metadata": {},
   "outputs": [
    {
     "data": {
      "text/latex": [
       "$\\displaystyle a_{4}^{epq} = 0$"
      ],
      "text/plain": [
       "Eq(a_{4}^{epq}, 0)"
      ]
     },
     "metadata": {},
     "output_type": "display_data"
    },
    {
     "data": {
      "text/latex": [
       "$\\displaystyle a_{4}^{g} = x$"
      ],
      "text/plain": [
       "Eq(a_{4}^{g}, x)"
      ]
     },
     "metadata": {},
     "output_type": "display_data"
    },
    {
     "data": {
      "text/latex": [
       "$\\displaystyle a_{4}^{pp} = - \\frac{12 x^{3}}{Q^{2}}$"
      ],
      "text/plain": [
       "Eq(a_{4}^{pp}, -12*x**3/Q**2)"
      ]
     },
     "metadata": {},
     "output_type": "display_data"
    }
   ],
   "source": [
    "a4g,a4pp,a4epq = sp.symbols(r'a_{4}^{g} a_{4}^{pp} a_{4}^{epq}')\n",
    "expr = a4g*data['Pg'] + a4pp*data['Ppp'] + a4epq*data['Pepq']\n",
    "\n",
    "eq1 = sp.Eq(expr.subs(g1,1).subs(g2,0).subs(g3,0).subs(g4,0).subs(g5,0),0)\n",
    "# eq2 = sp.Eq(expr.subs(g1,0).subs(g2,1).subs(g3,0).subs(g4,0).subs(g5,0),0)\n",
    "# eq3 = sp.Eq(expr.subs(g1,0).subs(g2,0).subs(g3,1).subs(g4,0).subs(g5,0),0)\n",
    "eq4 = sp.Eq(expr.subs(g1,0).subs(g2,0).subs(g3,0).subs(g4,1).subs(g5,0),1)\n",
    "eq5 = sp.Eq(expr.subs(g1,0).subs(g2,0).subs(g3,0).subs(g4,0).subs(g5,1),0)\n",
    "\n",
    "sol = sp.solve([eq1,eq4,eq5],[a4g,a4pp,a4epq])\n",
    "for _ in sol.keys():\n",
    "    sol[_] = sol[_].simplify().factor()#.subs(M,0)\n",
    "    display(sp.Eq(_,sol[_]))"
   ]
  },
  {
   "cell_type": "markdown",
   "id": "35f62006",
   "metadata": {},
   "source": [
    "$g_5$ projection"
   ]
  },
  {
   "cell_type": "code",
   "execution_count": 45,
   "id": "8a42a729",
   "metadata": {},
   "outputs": [
    {
     "data": {
      "text/latex": [
       "$\\displaystyle a_{5}^{epq} = 0$"
      ],
      "text/plain": [
       "Eq(a_{5}^{epq}, 0)"
      ]
     },
     "metadata": {},
     "output_type": "display_data"
    },
    {
     "data": {
      "text/latex": [
       "$\\displaystyle a_{5}^{g} = \\frac{1}{2}$"
      ],
      "text/plain": [
       "Eq(a_{5}^{g}, 1/2)"
      ]
     },
     "metadata": {},
     "output_type": "display_data"
    },
    {
     "data": {
      "text/latex": [
       "$\\displaystyle a_{5}^{pp} = - \\frac{2 x^{2}}{Q^{2}}$"
      ],
      "text/plain": [
       "Eq(a_{5}^{pp}, -2*x**2/Q**2)"
      ]
     },
     "metadata": {},
     "output_type": "display_data"
    }
   ],
   "source": [
    "a5g,a5pp,a5epq = sp.symbols(r'a_{5}^{g} a_{5}^{pp} a_{5}^{epq}')\n",
    "expr = a5g*data['Pg'] + a5pp*data['Ppp'] + a5epq*data['Pepq']\n",
    "\n",
    "eq1 = sp.Eq(expr.subs(g1,1).subs(g2,0).subs(g3,0).subs(g4,0).subs(g5,0),0)\n",
    "# eq2 = sp.Eq(expr.subs(g1,0).subs(g2,1).subs(g3,0).subs(g4,0).subs(g5,0),0)\n",
    "# eq3 = sp.Eq(expr.subs(g1,0).subs(g2,0).subs(g3,1).subs(g4,0).subs(g5,0),0)\n",
    "eq4 = sp.Eq(expr.subs(g1,0).subs(g2,0).subs(g3,0).subs(g4,1).subs(g5,0),0)\n",
    "eq5 = sp.Eq(expr.subs(g1,0).subs(g2,0).subs(g3,0).subs(g4,0).subs(g5,1),1)\n",
    "\n",
    "sol = sp.solve([eq1,eq4,eq5],[a5g,a5pp,a5epq])\n",
    "for _ in sol.keys():\n",
    "    sol[_] = sol[_].simplify().factor()#.subs(M,0)\n",
    "    display(sp.Eq(_,sol[_]))"
   ]
  },
  {
   "cell_type": "markdown",
   "id": "08bb1469",
   "metadata": {},
   "source": [
    "# Check Projectors"
   ]
  },
  {
   "cell_type": "code",
   "execution_count": 50,
   "id": "6791654a",
   "metadata": {},
   "outputs": [
    {
     "data": {
      "text/latex": [
       "$\\displaystyle g_{1}$"
      ],
      "text/plain": [
       "g1"
      ]
     },
     "metadata": {},
     "output_type": "display_data"
    },
    {
     "data": {
      "text/latex": [
       "$\\displaystyle 0$"
      ],
      "text/plain": [
       "0"
      ]
     },
     "metadata": {},
     "output_type": "display_data"
    },
    {
     "data": {
      "text/latex": [
       "$\\displaystyle 0$"
      ],
      "text/plain": [
       "0"
      ]
     },
     "metadata": {},
     "output_type": "display_data"
    },
    {
     "data": {
      "text/latex": [
       "$\\displaystyle g_{4}$"
      ],
      "text/plain": [
       "g4"
      ]
     },
     "metadata": {},
     "output_type": "display_data"
    },
    {
     "data": {
      "text/latex": [
       "$\\displaystyle g_{5}$"
      ],
      "text/plain": [
       "g5"
      ]
     },
     "metadata": {},
     "output_type": "display_data"
    }
   ],
   "source": [
    "code = '''\n",
    "Off Statistics;\n",
    "Autodeclare Symbols a,v;\n",
    "Autodeclare Index o;\n",
    "Vector S,q,P;\n",
    "Vector s,p,p1;\n",
    "Symbol x,y,h,E,M,Q;\n",
    "Symbol n;\n",
    "Autodeclare Symbol g;\n",
    "Autodeclare Vector V;\n",
    "CFunction dot(symmetric),e(antisymmetric);\n",
    "\n",
    "L [Wp] = I_*e(o1,o2,o3,o4)*q(o3)/P.q*(S(o4)*g1 + (S(o4) - S.q/P.q*P(o4))*g2)\n",
    "            + (((P(o1)+P.q/Q^2*q(o1))*(S(o2)+S.q/Q^2*q(o2)) \n",
    "                    + (S(o1)+S.q/Q^2*q(o1))*(P(o2)+P.q/Q^2*q(o2)))/2 - S.q/P.q*(P(o1)+P.q/Q^2*q(o1))*(P(o2)+P.q/Q^2*q(o2)))*g3/P.q\n",
    "            + S.q/P.q*((P(o1)+P.q/Q^2*q(o1))*(P(o2)+P.q/Q^2*q(o2))*g4/P.q - (d_(o1,o2) + q(o1)*q(o2)/Q^2)*g5);\n",
    "\n",
    "L [Pg]   = d_(o1,o2)*[Wp];\n",
    "L [Ppp]  = P(o1)*P(o2)*[Wp];\n",
    "*L [Pps]  = (P(o1)*S(o2)+S(o1)*P(o2))*[Wp];\n",
    "L [Pepq] = I_*e(o1,o2,o5,o6)*q(o5)*P(o6)*[Wp];\n",
    "*L [Peqs] = I_*e(o1,o2,o5,o6)*q(o5)*S(o6)*[Wp];\n",
    "\n",
    "L [P1] = x/Q^2*[Pepq];\n",
    "L [P2] = 0;\n",
    "L [P3] = 0;\n",
    "L [P4] = x*[Pg] - 12*x^3/Q^2*[Ppp];\n",
    "L [P5] = 1/2*[Pg] - 2*x^2/Q^2*[Ppp];\n",
    "\n",
    "*contract;\n",
    "id e(o1,o2,o3?,o4?)*e(o1,o2,o5?,o6?) = -2*(d_(o3,o5)*d_(o4,o6) - d_(o3,o6)*d_(o4,o5));\n",
    "id p = x*P;\n",
    "id s = x*S;\n",
    "id e(q,P,s,p) = e(q,P,s,P)*x;\n",
    "id e(S,q,s,p) = e(S,q,S,P)*x^2;\n",
    "id q.q = -Q^2;\n",
    "id P.P = M^2;\n",
    "id P.q = Q^2/2/x;\n",
    "id P.q^-1 = 2*x/Q^2;\n",
    "id P.S = 0;\n",
    "id S.S = -M^2;\n",
    "id S.q = -h*E*M*(y+Q^2/2/E^2);\n",
    "id E = Q^2/2/M/x/y;\n",
    "id E^n? = (Q^2/2/M/x/y)^n;\n",
    "id E^-n? = (Q^2/2/M/x/y)^-n;\n",
    "id M = 0;\n",
    "id V1?.V2? = dot(V1,V2);\n",
    "id V1?.V2?^n? = (dot(V1,V2))^(n);\n",
    "\n",
    "Print [P1];\n",
    "Print [P2];\n",
    "Print [P3];\n",
    "Print [P4];\n",
    "Print [P5];\n",
    "'''\n",
    "data = run_form(code,verb=0)\n",
    "\n",
    "M = sp.symbols(r'M')\n",
    "h = sp.symbols(r'h')\n",
    "Q = sp.symbols(r'Q')\n",
    "x = sp.symbols(r'x')\n",
    "y = sp.symbols(r'y')\n",
    "xi = sp.symbols(r'\\xi')\n",
    "g1,g2,g3,g4,g5 = sp.symbols('g_(1:6)')#' g_2 g_3 g_4 g_5')\n",
    "a1,a2 = sp.symbols(r'a_(1:3)')\n",
    "v1,v2 = sp.symbols(r'v_(1:3)')\n",
    "\n",
    "for _ in data:\n",
    "    data[_] = data[_].replace('0;','0')\n",
    "    data[_] = data[_].replace(r'Q','q')\n",
    "    data[_] = data[_].replace(r'sqrt_','sqrt')\n",
    "    data[_] = to_sympy(data[_])\n",
    "    data[_] = data[_].subs(r'a1',a1).subs(r'a2',a2).subs(r'v1',v1).subs(r'v2',v2)\n",
    "    data[_] = data[_].subs('q',Q)\n",
    "    data[_] = data[_].subs(h,1)\n",
    "#     data[_] = data[_].subs('M',0)\n",
    "#     data[_] = data[_]*2*sp.pi/Q**2 # from on-shell delta function\n",
    "#     data[_] = data[_]/sp.S(4)/sp.pi # from hadron tensor normalization\n",
    "#     data[_] = data[_].subs('F1',F1).subs('F2',F2).subs('F3',F3)\n",
    "    display(data[_].simplify().factor())"
   ]
  },
  {
   "cell_type": "markdown",
   "id": "52ca938d",
   "metadata": {},
   "source": [
    "# Calculate Hadronic Tensor Directly"
   ]
  },
  {
   "cell_type": "code",
   "execution_count": 83,
   "id": "b14b9577",
   "metadata": {},
   "outputs": [
    {
     "data": {
      "text/latex": [
       "$\\displaystyle \\frac{a_{1} a_{2} + v_{1} v_{2}}{2}$"
      ],
      "text/plain": [
       "(a_1*a_2 + v_1*v_2)/2"
      ]
     },
     "metadata": {},
     "output_type": "display_data"
    },
    {
     "data": {
      "text/latex": [
       "$\\displaystyle - 2 x \\left(a_{1} v_{2} + a_{2} v_{1}\\right)$"
      ],
      "text/plain": [
       "-2*x*(a_1*v_2 + a_2*v_1)"
      ]
     },
     "metadata": {},
     "output_type": "display_data"
    },
    {
     "data": {
      "text/latex": [
       "$\\displaystyle - a_{1} v_{2} - a_{2} v_{1}$"
      ],
      "text/plain": [
       "-a_1*v_2 - a_2*v_1"
      ]
     },
     "metadata": {},
     "output_type": "display_data"
    }
   ],
   "source": [
    "code = '''\n",
    "Off Statistics;\n",
    "Autodeclare Symbols a,v;\n",
    "Autodeclare Index o;\n",
    "Vector S,q,P;\n",
    "Vector s,p,p1;\n",
    "Symbol x,y,h,E,M,Q;\n",
    "Symbol n;\n",
    "Autodeclare Vector V;\n",
    "CFunction dot(symmetric),e(antisymmetric);\n",
    "\n",
    "L [What] = -2*a1*v2*(2*s(o1)*p(o2)-d_(o1,o2)*s.q) - 2*a2*v1*(2*p(o1)*s(o2)-d_(o1,o2)*s.q)\n",
    "           - 2*I_*e(o1,o2,o3,o4)*(2*a1*a2*s(o3)*p(o4) + (a1*a2+v1*v2)*s(o3)*q(o4));\n",
    "\n",
    "L [Pg]   = d_(o1,o2)*[What];\n",
    "L [Ppp]  = P(o1)*P(o2)*[What];\n",
    "*L [Pps]  = (P(o1)*S(o2)+S(o1)*P(o2))*[What];\n",
    "L [Pepq] = I_*e(o1,o2,o5,o6)*q(o5)*P(o6)*[What];\n",
    "*L [Peqs] = I_*e(o1,o2,o5,o6)*q(o5)*S(o6)*[What];\n",
    "\n",
    "L [P1] = x/Q^2*[Pepq];\n",
    "L [P2] = 0;\n",
    "L [P3] = 0;\n",
    "L [P4] = x*[Pg] - 12*x^3/Q^2*[Ppp];\n",
    "L [P5] = 1/2*[Pg] - 2*x^2/Q^2*[Ppp];\n",
    "\n",
    "*contract;\n",
    "id e(o1,o2,o3?,o4?)*e(o1,o2,o5?,o6?) = -2*(d_(o3,o5)*d_(o4,o6) - d_(o3,o6)*d_(o4,o5));\n",
    "id p = x*P;\n",
    "id s = x*S;\n",
    "id e(q,P,s,p) = e(q,P,s,P)*x;\n",
    "id e(S,q,s,p) = e(S,q,S,P)*x^2;\n",
    "id q.q = -Q^2;\n",
    "id P.P = M^2;\n",
    "id P.q = Q^2/2/x;\n",
    "id P.q^-1 = 2*x/Q^2;\n",
    "id P.S = 0;\n",
    "id S.S = -M^2;\n",
    "id S.q = -h*E*M*(y+Q^2/2/E^2);\n",
    "id E = Q^2/2/M/x/y;\n",
    "id E^n? = (Q^2/2/M/x/y)^n;\n",
    "id E^-n? = (Q^2/2/M/x/y)^-n;\n",
    "id M = 0;\n",
    "id V1?.V2? = dot(V1,V2);\n",
    "id V1?.V2?^n? = (dot(V1,V2))^(n);\n",
    "\n",
    "Print [P1];\n",
    "*Print [P2];\n",
    "*Print [P3];\n",
    "Print [P4];\n",
    "Print [P5];\n",
    "'''\n",
    "data = run_form(code,verb=0)\n",
    "\n",
    "M = sp.symbols(r'M')\n",
    "h = sp.symbols(r'h')\n",
    "Q = sp.symbols(r'Q')\n",
    "x = sp.symbols(r'x')\n",
    "y = sp.symbols(r'y')\n",
    "xi = sp.symbols(r'\\xi')\n",
    "g1,g2,g3,g4,g5 = sp.symbols('g_(1:6)')#' g_2 g_3 g_4 g_5')\n",
    "a1,a2 = sp.symbols(r'a_(1:3)')\n",
    "v1,v2 = sp.symbols(r'v_(1:3)')\n",
    "\n",
    "for _ in data:\n",
    "    data[_] = data[_].replace('0;','0')\n",
    "#     print(data[_])\n",
    "    data[_] = data[_].replace(r'Q','q')\n",
    "    data[_] = data[_].replace(r'sqrt_','sqrt')\n",
    "    data[_] = data[_].replace(r'i','I')\n",
    "    data[_] = to_sympy(data[_])\n",
    "    data[_] = data[_].subs(r'a1',a1).subs(r'a2',a2).subs(r'v1',v1).subs(r'v2',v2)\n",
    "    data[_] = data[_].subs('q',Q)\n",
    "    data[_] = data[_].subs('h',1)\n",
    "#     data[_] = data[_].subs('M',M)\n",
    "    data[_] = data[_]*2*sp.pi/Q**2 # from on-shell delta function\n",
    "    data[_] = data[_]/sp.S(4)/sp.pi # from hadron tensor normalization\n",
    "#     data[_] = data[_].subs('F1',F1).subs('F2',F2).subs('F3',F3)\n",
    "    display(data[_].simplify().factor().series(M,0,1).removeO().simplify().factor())#.subs(M,0).simplify())"
   ]
  },
  {
   "cell_type": "code",
   "execution_count": 96,
   "id": "42997331",
   "metadata": {},
   "outputs": [],
   "source": [
    "gV   = sp.symbols(r'g_{V}^{i}')\n",
    "gA   = sp.symbols(r'g_{A}^{i}')\n",
    "f    = sp.Symbol(r'\\Delta f_i',commutative=False)\n",
    "sig  = sp.Symbol(r'\\Sigma_{i}',commutative=False)\n",
    "eq   = sp.Symbol(r'e_{q}',commutative=False)"
   ]
  },
  {
   "cell_type": "markdown",
   "id": "2d48e2cf",
   "metadata": {},
   "source": [
    "$\\gamma$"
   ]
  },
  {
   "cell_type": "code",
   "execution_count": 97,
   "id": "b258e184",
   "metadata": {},
   "outputs": [
    {
     "data": {
      "text/latex": [
       "$\\displaystyle g_{1} = \\frac{\\Sigma_{i} e_{q}^{2} \\Delta f_{i}}{2}$"
      ],
      "text/plain": [
       "Eq(g_1, \\Sigma_{i}*e_{q}**2*\\Delta f_i/2)"
      ]
     },
     "metadata": {},
     "output_type": "display_data"
    },
    {
     "data": {
      "text/latex": [
       "$\\displaystyle g_{4} = 0$"
      ],
      "text/plain": [
       "Eq(g_4, 0)"
      ]
     },
     "metadata": {},
     "output_type": "display_data"
    },
    {
     "data": {
      "text/latex": [
       "$\\displaystyle g_{5} = 0$"
      ],
      "text/plain": [
       "Eq(g_5, 0)"
      ]
     },
     "metadata": {},
     "output_type": "display_data"
    }
   ],
   "source": [
    "display(sp.Eq(g1,sig*eq**2*data['P1'].subs(a1,0).subs(a2,0).subs(v1,1).subs(v2,1)*f))\n",
    "display(sp.Eq(g4,sig*eq**2*data['P4'].subs(a1,0).subs(a2,0).subs(v1,1).subs(v2,1)*f))\n",
    "display(sp.Eq(g5,sig*eq**2*data['P5'].subs(a1,0).subs(a2,0).subs(v1,1).subs(v2,1)*f))"
   ]
  },
  {
   "cell_type": "markdown",
   "id": "cb3687ed",
   "metadata": {},
   "source": [
    "$\\gamma Z$"
   ]
  },
  {
   "cell_type": "code",
   "execution_count": 98,
   "id": "ea625920",
   "metadata": {},
   "outputs": [
    {
     "data": {
      "text/latex": [
       "$\\displaystyle g_{1} = g_{V}^{i} \\Sigma_{i} e_{q} \\Delta f_{i}$"
      ],
      "text/plain": [
       "Eq(g_1, g_{V}^{i}*\\Sigma_{i}*e_{q}*\\Delta f_i)"
      ]
     },
     "metadata": {},
     "output_type": "display_data"
    },
    {
     "data": {
      "text/latex": [
       "$\\displaystyle g_{4} = - 4 g_{A}^{i} x \\Sigma_{i} e_{q} \\Delta f_{i}$"
      ],
      "text/plain": [
       "Eq(g_4, -4*g_{A}^{i}*x*\\Sigma_{i}*e_{q}*\\Delta f_i)"
      ]
     },
     "metadata": {},
     "output_type": "display_data"
    },
    {
     "data": {
      "text/latex": [
       "$\\displaystyle g_{5} = - 2 g_{A}^{i} \\Sigma_{i} e_{q} \\Delta f_{i}$"
      ],
      "text/plain": [
       "Eq(g_5, -2*g_{A}^{i}*\\Sigma_{i}*e_{q}*\\Delta f_i)"
      ]
     },
     "metadata": {},
     "output_type": "display_data"
    }
   ],
   "source": [
    "display(sp.Eq(g1,sig*eq*data['P1'].subs(a1,0).subs(a2,2*gA).subs(v1,1).subs(v2,2*gV)*f))\n",
    "display(sp.Eq(g4,sig*eq*data['P4'].subs(a1,0).subs(a2,2*gA).subs(v1,1).subs(v2,2*gV)*f))\n",
    "display(sp.Eq(g5,sig*eq*data['P5'].subs(a1,0).subs(a2,2*gA).subs(v1,1).subs(v2,2*gV)*f))"
   ]
  },
  {
   "cell_type": "markdown",
   "id": "99f5c654",
   "metadata": {},
   "source": [
    "$Z$"
   ]
  },
  {
   "cell_type": "code",
   "execution_count": 99,
   "id": "d636efb2",
   "metadata": {},
   "outputs": [
    {
     "data": {
      "text/latex": [
       "$\\displaystyle g_{1} = \\frac{\\left(\\left(g_{A}^{i}\\right)^{2} + \\left(g_{V}^{i}\\right)^{2}\\right) \\Sigma_{i} \\Delta f_{i}}{2}$"
      ],
      "text/plain": [
       "Eq(g_1, (g_{A}^{i}**2 + g_{V}^{i}**2)*\\Sigma_{i}*\\Delta f_i/2)"
      ]
     },
     "metadata": {},
     "output_type": "display_data"
    },
    {
     "data": {
      "text/latex": [
       "$\\displaystyle g_{4} = - 4 g_{A}^{i} g_{V}^{i} x \\Sigma_{i} \\Delta f_{i}$"
      ],
      "text/plain": [
       "Eq(g_4, -4*g_{A}^{i}*g_{V}^{i}*x*\\Sigma_{i}*\\Delta f_i)"
      ]
     },
     "metadata": {},
     "output_type": "display_data"
    },
    {
     "data": {
      "text/latex": [
       "$\\displaystyle g_{5} = - 2 g_{A}^{i} g_{V}^{i} \\Sigma_{i} \\Delta f_{i}$"
      ],
      "text/plain": [
       "Eq(g_5, -2*g_{A}^{i}*g_{V}^{i}*\\Sigma_{i}*\\Delta f_i)"
      ]
     },
     "metadata": {},
     "output_type": "display_data"
    }
   ],
   "source": [
    "display(sp.Eq(g1,(sig*data['P1'].subs(a1,gA).subs(a2,gA).subs(v1,gV).subs(v2,gV)*f).simplify()))\n",
    "display(sp.Eq(g4,(sig*data['P4'].subs(a1,gA).subs(a2,gA).subs(v1,gV).subs(v2,gV)*f)).simplify())\n",
    "display(sp.Eq(g5,(sig*data['P5'].subs(a1,gA).subs(a2,gA).subs(v1,gV).subs(v2,gV)*f)).simplify())"
   ]
  },
  {
   "cell_type": "code",
   "execution_count": null,
   "id": "fff7f4d7",
   "metadata": {},
   "outputs": [],
   "source": []
  },
  {
   "cell_type": "code",
   "execution_count": null,
   "id": "7bb79d84",
   "metadata": {},
   "outputs": [],
   "source": []
  },
  {
   "cell_type": "code",
   "execution_count": null,
   "id": "531b0772",
   "metadata": {},
   "outputs": [],
   "source": []
  }
 ],
 "metadata": {
  "kernelspec": {
   "display_name": "Python 3",
   "language": "python",
   "name": "python3"
  },
  "language_info": {
   "codemirror_mode": {
    "name": "ipython",
    "version": 3
   },
   "file_extension": ".py",
   "mimetype": "text/x-python",
   "name": "python",
   "nbconvert_exporter": "python",
   "pygments_lexer": "ipython3",
   "version": "3.8.6"
  }
 },
 "nbformat": 4,
 "nbformat_minor": 5
}
