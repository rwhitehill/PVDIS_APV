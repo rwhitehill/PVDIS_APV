{
 "cells": [
  {
   "cell_type": "code",
   "execution_count": 1,
   "id": "b54d7833",
   "metadata": {},
   "outputs": [],
   "source": [
    "import sympy as sp"
   ]
  },
  {
   "cell_type": "markdown",
   "id": "a86a2312",
   "metadata": {},
   "source": [
    "# Variables"
   ]
  },
  {
   "cell_type": "code",
   "execution_count": 2,
   "id": "e5cfa7de",
   "metadata": {},
   "outputs": [],
   "source": [
    "x    = sp.Symbol(r'x'        ,real=True,positive=True)\n",
    "y    = sp.Symbol(r'y'        ,real=True,positive=True)\n",
    "Q    = sp.Symbol(r'Q'        ,real=True,positive=True)\n",
    "alfa = sp.Symbol(r'\\alpha'   ,real=True,positive=True)\n",
    "gVq  = sp.Symbol(r'g_{V}^q'  ,real=True)\n",
    "gAq  = sp.Symbol(r'g_{A}^q'  ,real=True)\n",
    "gVe  = sp.Symbol(r'g_{V}^e'  ,real=True)\n",
    "gAe  = sp.Symbol(r'g_{A}^e'  ,real=True)\n",
    "MZ   = sp.Symbol(r'M_{Z}'    ,real=True,positive=True)\n",
    "M    = sp.Symbol(r'M'        ,real=True,positive=True)\n",
    "eq   = sp.Symbol(r'e_{q}'    ,real=True)\n",
    "GF   = sp.Symbol(r'G_{F}'    ,real=True,positive=True)\n",
    "fp   = sp.Symbol(r'f_{q}^{+}',real=True)\n",
    "fm   = sp.Symbol(r'f_{q}^{-}',real=True)\n",
    "lam  = sp.Symbol(r'\\lambda'  ,real=True)\n",
    "r    = sp.Symbol(r'r',real=True)"
   ]
  },
  {
   "cell_type": "code",
   "execution_count": 3,
   "id": "2d69a64a",
   "metadata": {},
   "outputs": [],
   "source": [
    "front_factor = 4*sp.pi*alfa**2/Q**2/x/y\n",
    "eta_g        = 1\n",
    "eta_gZ       = (GF*MZ**2/sp.S(2*sp.sqrt(2))/sp.pi/alfa)*(Q**2/(Q**2+MZ**2))\n",
    "eta_Z        = eta_gZ**2"
   ]
  },
  {
   "cell_type": "markdown",
   "id": "1f638457",
   "metadata": {},
   "source": [
    "### structure functions"
   ]
  },
  {
   "cell_type": "code",
   "execution_count": 4,
   "id": "1e2e1585",
   "metadata": {},
   "outputs": [],
   "source": [
    "g1    = sp.Symbol(r'F_1^{\\rm NC}',real=True)\n",
    "g4    = sp.Symbol(r'g_4^{\\rm NC}',real=True)\n",
    "g5    = sp.Symbol(r'g_5^{\\rm NC}',real=True)\n",
    "\n",
    "g1_g  = sp.Symbol(r'g_1^{\\gamma}'  ,real=True)\n",
    "g1_gZ = sp.Symbol(r'g_1^{\\gamma Z}',real=True)\n",
    "g1_Z  = sp.Symbol(r'g_1^{Z}'       ,real=True)\n",
    "\n",
    "g4_g  = sp.Symbol(r'g_4^{\\gamma}'  ,real=True)\n",
    "g4_gZ = sp.Symbol(r'g_4^{\\gamma Z}',real=True)\n",
    "g4_Z  = sp.Symbol(r'g_4^{Z}'       ,real=True)\n",
    "\n",
    "g5_g  = 0#sp.Symbol(r'g_5^{\\gamma}'  ,real=True)\n",
    "g5_gZ = sp.Symbol(r'g_5^{\\gamma Z}',real=True)\n",
    "g5_Z  = sp.Symbol(r'g_5^{Z}'       ,real=True)"
   ]
  },
  {
   "cell_type": "code",
   "execution_count": 5,
   "id": "89da9ebc",
   "metadata": {},
   "outputs": [],
   "source": [
    "F1    = sp.Symbol(r'F_1^{\\rm NC}',real=True)\n",
    "F2    = sp.Symbol(r'F_2^{\\rm NC}',real=True)\n",
    "F3    = sp.Symbol(r'F_3^{\\rm NC}',real=True)\n",
    "FL    = sp.Symbol(r'F_L^{\\rm NC}',real=True)\n",
    "\n",
    "F1_g  = sp.Symbol(r'F_1^{\\gamma}'  ,real=True)\n",
    "F1_gZ = sp.Symbol(r'F_1^{\\gamma Z}',real=True)\n",
    "F1_Z  = sp.Symbol(r'F_1^{Z}'       ,real=True)\n",
    "\n",
    "F2_g  = sp.Symbol(r'F_2^{\\gamma}'  ,real=True)\n",
    "F2_gZ = sp.Symbol(r'F_2^{\\gamma Z}',real=True)\n",
    "F2_Z  = sp.Symbol(r'F_2^{Z}'       ,real=True)\n",
    "\n",
    "F3_g  = 0#sp.Symbol(r'F_3^{\\gamma}'  ,real=True)\n",
    "F3_gZ = sp.Symbol(r'F_3^{\\gamma Z}',real=True)\n",
    "F3_Z  = sp.Symbol(r'F_3^{Z}'       ,real=True)\n",
    "\n",
    "R_g   = sp.Symbol(r'R^{\\gamma}'  ,real=True)\n",
    "R_gZ  = sp.Symbol(r'R^{\\gamma Z}',real=True)\n",
    "R_Z   = sp.Symbol(r'R^{Z}'       ,real=True)"
   ]
  },
  {
   "cell_type": "markdown",
   "id": "1196ff4d",
   "metadata": {},
   "source": [
    "# Cross Section"
   ]
  },
  {
   "cell_type": "code",
   "execution_count": 34,
   "id": "a6a728f3",
   "metadata": {},
   "outputs": [],
   "source": [
    "dxsec_p = front_factor*(-lam*x*y*(2-y)*g1 + (1-y)*g4 + x*y**2*g5)\n",
    "dxsec_p = dxsec_p.subs(g1,g1_g + eta_gZ*(gVe-lam*gAe)*g1_gZ + eta_Z*(gVe-lam*gAe)**2*g1_Z)\n",
    "dxsec_p = dxsec_p.subs(g4,g5/sp.S(2)/x)\n",
    "dxsec_p = dxsec_p.subs(g5,g5_g + eta_gZ*(gVe-lam*gAe)*g5_gZ + eta_Z*(gVe-lam*gAe)**2*g5_Z)"
   ]
  },
  {
   "cell_type": "code",
   "execution_count": 35,
   "id": "31ac9d13",
   "metadata": {},
   "outputs": [],
   "source": [
    "dxsec_u = front_factor*(x*y**2*F1 + (1-y-x**2*y**2*(r**2-1)/sp.S(4)/x**2)*F2 - lam*x*(y-y**2/sp.S(2))*F3)\n",
    "dxsec_u = dxsec_u.subs(F2,2*x*F1)\n",
    "dxsec_u = dxsec_u.subs(F1,F1_g + eta_gZ*(gVe-lam*gAe)*F1_gZ + eta_Z*(gVe-lam*gAe)**2*F1_Z)\n",
    "# dxsec_u = dxsec_u.subs(F2,F2_g + eta_gZ*(gVe-lam*gAe)*F2_gZ + eta_Z*(gVe-lam*gAe)**2*F2_Z)\n",
    "dxsec_u = dxsec_u.subs(F3,F3_g + eta_gZ*(gVe-lam*gAe)*F3_gZ + eta_Z*(gVe-lam*gAe)**2*F3_Z)\n",
    "dxsec_u = dxsec_u.subs(r,1)\n",
    "\n",
    "# dxsec_u = dxsec_u.subs(F2_g ,2*x*(R_g+1)*F1_g/r**2)\n",
    "# dxsec_u = dxsec_u.subs(F2_gZ,2*x*(R_gZ+1)*F1_gZ/r**2)\n",
    "# dxsec_u = dxsec_u.subs(F2_Z ,2*x*(R_Z+1)*F1_Z/r**2)"
   ]
  },
  {
   "cell_type": "markdown",
   "id": "aa9842d6",
   "metadata": {},
   "source": [
    "### Asymmetry"
   ]
  },
  {
   "cell_type": "code",
   "execution_count": 36,
   "id": "2210b63d",
   "metadata": {},
   "outputs": [],
   "source": [
    "num = dxsec_p.subs(lam,1) + dxsec_p.subs(lam,-1)\n",
    "den = dxsec_u.subs(lam,1) + dxsec_u.subs(lam,-1)"
   ]
  },
  {
   "cell_type": "code",
   "execution_count": 37,
   "id": "05ec4f61",
   "metadata": {},
   "outputs": [],
   "source": [
    "APV_pol = num/den"
   ]
  },
  {
   "cell_type": "code",
   "execution_count": 38,
   "id": "7537a4c2",
   "metadata": {},
   "outputs": [
    {
     "data": {
      "text/latex": [
       "$\\displaystyle - \\frac{\\sqrt{2} G_{F} Q^{2} \\left(g_1^{\\gamma Z} \\left(2 g_{A}^e x^{2} y^{2} - 4 g_{A}^e x^{2} y\\right) + g_5^{\\gamma Z} \\left(- 2 g_{V}^e x^{2} y^{2} + g_{V}^e y - g_{V}^e\\right)\\right)}{8 \\pi F_1^{\\gamma} \\alpha x^{2} \\left(y^{2} - 2 y + 2\\right)}$"
      ],
      "text/plain": [
       "-sqrt(2)*G_{F}*Q**2*(g_1^{\\gamma Z}*(2*g_{A}^e*x**2*y**2 - 4*g_{A}^e*x**2*y) + g_5^{\\gamma Z}*(-2*g_{V}^e*x**2*y**2 + g_{V}^e*y - g_{V}^e))/(8*pi*F_1^{\\gamma}*\\alpha*x**2*(y**2 - 2*y + 2))"
      ]
     },
     "execution_count": 38,
     "metadata": {},
     "output_type": "execute_result"
    }
   ],
   "source": [
    "eps = sp.Symbol(r'\\epsilon')\n",
    "APV_pol = APV_pol.subs(MZ,Q/eps).series(eps,0,1).removeO().simplify()\n",
    "APV_pol = APV_pol.subs(GF,eps*alfa).series(eps,0,2).removeO().subs(eps,GF/alfa).simplify().factor(g1_gZ,g5_gZ)\n",
    "APV_pol"
   ]
  },
  {
   "cell_type": "code",
   "execution_count": 39,
   "id": "276c840c",
   "metadata": {},
   "outputs": [],
   "source": [
    "num,den = sp.fraction(APV_pol)"
   ]
  },
  {
   "cell_type": "code",
   "execution_count": 40,
   "id": "78511338",
   "metadata": {},
   "outputs": [],
   "source": [
    "b1,b5 = sp.symbols(r'b_1 b_3',real=True)\n",
    "num = num.subs(g1_gZ,b1*F1_g/sp.S(2)/gAe).subs(g5_gZ,b5*F1_g/gVe).simplify()"
   ]
  },
  {
   "cell_type": "code",
   "execution_count": 43,
   "id": "217710c3",
   "metadata": {},
   "outputs": [
    {
     "data": {
      "text/latex": [
       "$\\displaystyle - \\frac{y \\left(y - 2\\right)}{y^{2} - 2 y + 2}$"
      ],
      "text/plain": [
       "-y*(y - 2)/(y**2 - 2*y + 2)"
      ]
     },
     "metadata": {},
     "output_type": "display_data"
    },
    {
     "data": {
      "text/latex": [
       "$\\displaystyle \\frac{2 x^{2} y^{2} - y + 1}{x^{2} \\left(y^{2} - 2 y + 2\\right)}$"
      ],
      "text/plain": [
       "(2*x**2*y**2 - y + 1)/(x**2*(y**2 - 2*y + 2))"
      ]
     },
     "metadata": {},
     "output_type": "display_data"
    }
   ],
   "source": [
    "APV_pol = (num/den).simplify()\n",
    "factor = sp.sqrt(2)*GF*Q**2/sp.S(8)/sp.pi/alfa\n",
    "\n",
    "coeff1 = (APV_pol/factor).subs(b1,1).subs(b5,0)#.subs(R_g,r**2-1).subs(R_gZ,r**2-1).subs(r,1)\n",
    "coeff5 = (APV_pol/factor).subs(b1,0).subs(b5,1)#.subs(R_g,r**2-1).subs(R_gZ,r**2-1).subs(r,1)\n",
    "\n",
    "display(coeff1)\n",
    "display(coeff5)"
   ]
  },
  {
   "cell_type": "code",
   "execution_count": null,
   "id": "30e00487",
   "metadata": {},
   "outputs": [],
   "source": []
  },
  {
   "cell_type": "code",
   "execution_count": null,
   "id": "204d5f9d",
   "metadata": {},
   "outputs": [],
   "source": []
  },
  {
   "cell_type": "code",
   "execution_count": null,
   "id": "55487c4a",
   "metadata": {},
   "outputs": [],
   "source": []
  },
  {
   "cell_type": "code",
   "execution_count": null,
   "id": "27ce00c0",
   "metadata": {},
   "outputs": [],
   "source": []
  },
  {
   "cell_type": "code",
   "execution_count": null,
   "id": "3063029e",
   "metadata": {},
   "outputs": [],
   "source": []
  },
  {
   "cell_type": "code",
   "execution_count": null,
   "id": "922fab8d",
   "metadata": {},
   "outputs": [],
   "source": []
  },
  {
   "cell_type": "code",
   "execution_count": null,
   "id": "e636db74",
   "metadata": {},
   "outputs": [],
   "source": []
  }
 ],
 "metadata": {
  "kernelspec": {
   "display_name": "Python 3",
   "language": "python",
   "name": "python3"
  },
  "language_info": {
   "codemirror_mode": {
    "name": "ipython",
    "version": 3
   },
   "file_extension": ".py",
   "mimetype": "text/x-python",
   "name": "python",
   "nbconvert_exporter": "python",
   "pygments_lexer": "ipython3",
   "version": "3.8.6"
  }
 },
 "nbformat": 4,
 "nbformat_minor": 5
}
