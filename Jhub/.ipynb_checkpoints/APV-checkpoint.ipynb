{
 "cells": [
  {
   "cell_type": "code",
   "execution_count": 1,
   "id": "663d3c6c",
   "metadata": {},
   "outputs": [],
   "source": [
    "import sympy as sp"
   ]
  },
  {
   "cell_type": "markdown",
   "id": "16e77b60",
   "metadata": {},
   "source": [
    "### variables"
   ]
  },
  {
   "cell_type": "code",
   "execution_count": 22,
   "id": "9ffc6c34",
   "metadata": {},
   "outputs": [],
   "source": [
    "x    = sp.Symbol(r'x'        ,real=True,positive=True)\n",
    "y    = sp.Symbol(r'y'        ,real=True,positive=True)\n",
    "Q    = sp.Symbol(r'Q'        ,real=True,positive=True)\n",
    "alfa = sp.Symbol(r'\\alpha'   ,real=True,positive=True)\n",
    "gVq  = sp.Symbol(r'g_{V}^q'  ,real=True)\n",
    "gAq  = sp.Symbol(r'g_{A}^q'  ,real=True)\n",
    "gVe  = sp.Symbol(r'g_{V}^e'  ,real=True)\n",
    "gAe  = sp.Symbol(r'g_{A}^e'  ,real=True)\n",
    "MZ   = sp.Symbol(r'M_{Z}'    ,real=True,positive=True)\n",
    "M    = sp.Symbol(r'M'        ,real=True,positive=True)\n",
    "eq   = sp.Symbol(r'e_{q}'    ,real=True)\n",
    "GF   = sp.Symbol(r'G_{F}'    ,real=True,positive=True)\n",
    "fp   = sp.Symbol(r'f_{q}^{+}',real=True)\n",
    "fm   = sp.Symbol(r'f_{q}^{-}',real=True)\n",
    "lam  = sp.Symbol(r'\\lambda'  ,real=True)\n",
    "r    = sp.Symbol(r'r',real=True)"
   ]
  },
  {
   "cell_type": "markdown",
   "id": "0e7578c9",
   "metadata": {},
   "source": [
    "### factors"
   ]
  },
  {
   "cell_type": "code",
   "execution_count": 23,
   "id": "3c9918f1",
   "metadata": {},
   "outputs": [],
   "source": [
    "front_factor = 4*sp.pi*alfa**2/Q**2/x/y\n",
    "eta_g        = 1\n",
    "eta_gZ       = (GF*MZ**2/sp.S(2*sp.sqrt(2))/sp.pi/alfa)*(Q**2/(Q**2+MZ**2))\n",
    "eta_Z        = eta_gZ**2"
   ]
  },
  {
   "cell_type": "markdown",
   "id": "633e678a",
   "metadata": {},
   "source": [
    "### structure functions"
   ]
  },
  {
   "cell_type": "code",
   "execution_count": 24,
   "id": "641e21e8",
   "metadata": {},
   "outputs": [],
   "source": [
    "F1    = sp.Symbol(r'F_1^{\\rm NC}',real=True)\n",
    "F2    = sp.Symbol(r'F_2^{\\rm NC}',real=True)\n",
    "F3    = sp.Symbol(r'F_3^{\\rm NC}',real=True)\n",
    "FL    = sp.Symbol(r'F_L^{\\rm NC}',real=True)\n",
    "\n",
    "F1_g  = sp.Symbol(r'F_1^{\\gamma}'  ,real=True)\n",
    "F1_gZ = sp.Symbol(r'F_1^{\\gamma Z}',real=True)\n",
    "F1_Z  = sp.Symbol(r'F_1^{Z}'       ,real=True)\n",
    "\n",
    "F2_g  = sp.Symbol(r'F_2^{\\gamma}'  ,real=True)\n",
    "F2_gZ = sp.Symbol(r'F_2^{\\gamma Z}',real=True)\n",
    "F2_Z  = sp.Symbol(r'F_2^{Z}'       ,real=True)\n",
    "\n",
    "F3_g  = 0#sp.Symbol(r'F_3^{\\gamma}'  ,real=True)\n",
    "F3_gZ = sp.Symbol(r'F_3^{\\gamma Z}',real=True)\n",
    "F3_Z  = sp.Symbol(r'F_3^{Z}'       ,real=True)\n",
    "\n",
    "R_g   = sp.Symbol(r'R^{\\gamma}'  ,real=True)\n",
    "R_gZ  = sp.Symbol(r'R^{\\gamma Z}',real=True)\n",
    "R_Z   = sp.Symbol(r'R^{Z}'       ,real=True)"
   ]
  },
  {
   "cell_type": "markdown",
   "id": "b25ca3f9",
   "metadata": {},
   "source": [
    "### Stuff"
   ]
  },
  {
   "cell_type": "code",
   "execution_count": 34,
   "id": "9a71e49b",
   "metadata": {},
   "outputs": [
    {
     "data": {
      "text/latex": [
       "$\\displaystyle y^{2} - 2 y + 2$"
      ],
      "text/plain": [
       "y**2 - 2*y + 2"
      ]
     },
     "metadata": {},
     "output_type": "display_data"
    },
    {
     "data": {
      "text/latex": [
       "$\\displaystyle - y \\left(y - 2\\right)$"
      ],
      "text/plain": [
       "-y*(y - 2)"
      ]
     },
     "metadata": {},
     "output_type": "display_data"
    },
    {
     "name": "stdout",
     "output_type": "stream",
     "text": [
      "=====================\n"
     ]
    },
    {
     "data": {
      "text/latex": [
       "$\\displaystyle - \\frac{2 M^{2} x^{2} y^{2}}{Q^{2}} + y^{2} - 2 y + 2$"
      ],
      "text/plain": [
       "-2*M**2*x**2*y**2/Q**2 + y**2 - 2*y + 2"
      ]
     },
     "metadata": {},
     "output_type": "display_data"
    },
    {
     "data": {
      "text/latex": [
       "$\\displaystyle \\lambda x y \\left(y - 2\\right)$"
      ],
      "text/plain": [
       "\\lambda*x*y*(y - 2)"
      ]
     },
     "metadata": {},
     "output_type": "display_data"
    },
    {
     "data": {
      "text/latex": [
       "$\\displaystyle - y^{2}$"
      ],
      "text/plain": [
       "-y**2"
      ]
     },
     "metadata": {},
     "output_type": "display_data"
    }
   ],
   "source": [
    "dxsec = front_factor*(x*y**2*F1 + (1-y-x**2*y**2*M**2/Q**2)*F2 - lam*x*(y-y**2/sp.S(2))*F3)\n",
    "dxsec = dxsec.subs(F1,(F2-FL)/sp.S(2)/x)/(front_factor/sp.S(2))\n",
    "\n",
    "F2_coeff = dxsec.subs(F2,1).subs(F3,0).subs(FL,0)\n",
    "F3_coeff = dxsec.subs(F2,0).subs(F3,1).subs(FL,0)\n",
    "FL_coeff = dxsec.subs(F2,0).subs(F3,0).subs(FL,1)\n",
    "\n",
    "Yp = 1 + (1-y)**2\n",
    "Ym = 1 - (1-y)**2\n",
    "display(Yp.expand())\n",
    "display(Ym.expand().factor())\n",
    "\n",
    "print('=====================')\n",
    "\n",
    "display(F2_coeff)\n",
    "display(F3_coeff.simplify())\n",
    "display(FL_coeff)"
   ]
  },
  {
   "cell_type": "code",
   "execution_count": 161,
   "id": "02da429c",
   "metadata": {},
   "outputs": [
    {
     "data": {
      "text/latex": [
       "$\\displaystyle \\frac{4 M^{2} x^{2}}{Q^{2}} + 1$"
      ],
      "text/plain": [
       "4*M**2*x**2/Q**2 + 1"
      ]
     },
     "execution_count": 161,
     "metadata": {},
     "output_type": "execute_result"
    }
   ],
   "source": [
    "nu = Q**2/sp.S(2)/M/x\n",
    "1 + Q**2/nu**2"
   ]
  },
  {
   "cell_type": "code",
   "execution_count": 106,
   "id": "b4b6a332",
   "metadata": {},
   "outputs": [
    {
     "data": {
      "text/latex": [
       "$\\displaystyle \\frac{2 M^{2} x y}{Q^{2}}$"
      ],
      "text/plain": [
       "2*M**2*x*y/Q**2"
      ]
     },
     "execution_count": 106,
     "metadata": {},
     "output_type": "execute_result"
    }
   ],
   "source": [
    "E = nu/y\n",
    "M/E"
   ]
  },
  {
   "cell_type": "markdown",
   "id": "b3ea1026",
   "metadata": {},
   "source": [
    "### cross-sections"
   ]
  },
  {
   "cell_type": "code",
   "execution_count": 163,
   "id": "ced6f62c",
   "metadata": {},
   "outputs": [
    {
     "data": {
      "text/latex": [
       "$\\displaystyle \\frac{r^{2} y \\left(G_{F} M_{Z}^{2} Q^{2} \\lambda \\left(y - 2\\right) \\left(\\lambda g_{A}^e - g_{V}^e\\right) \\left(F_3^{Z} G_{F} M_{Z}^{2} Q^{2} \\left(\\lambda g_{A}^e - g_{V}^e\\right) - 2 \\sqrt{2} \\pi F_3^{\\gamma Z} \\alpha \\left(M_{Z}^{2} + Q^{2}\\right)\\right) + 2 y \\left(F_1^{Z} G_{F}^{2} M_{Z}^{4} Q^{4} \\left(\\lambda g_{A}^e - g_{V}^e\\right)^{2} - 2 \\sqrt{2} \\pi F_1^{\\gamma Z} G_{F} M_{Z}^{2} Q^{2} \\alpha \\left(M_{Z}^{2} + Q^{2}\\right) \\left(\\lambda g_{A}^e - g_{V}^e\\right) + 8 \\pi^{2} F_1^{\\gamma} \\alpha^{2} \\left(M_{Z}^{2} + Q^{2}\\right)^{2}\\right)\\right) - \\left(y^{2} \\left(r^{2} - 1\\right) + 4 y - 4\\right) \\left(F_1^{Z} G_{F}^{2} M_{Z}^{4} Q^{4} \\left(R^{Z} + 1\\right) \\left(\\lambda g_{A}^e - g_{V}^e\\right)^{2} - 2 \\sqrt{2} \\pi F_1^{\\gamma Z} G_{F} M_{Z}^{2} Q^{2} \\alpha \\left(M_{Z}^{2} + Q^{2}\\right) \\left(R^{\\gamma Z} + 1\\right) \\left(\\lambda g_{A}^e - g_{V}^e\\right) + 8 \\pi^{2} F_1^{\\gamma} \\alpha^{2} \\left(M_{Z}^{2} + Q^{2}\\right)^{2} \\left(R^{\\gamma} + 1\\right)\\right)}{4 \\pi Q^{2} r^{2} y \\left(M_{Z}^{2} + Q^{2}\\right)^{2}}$"
      ],
      "text/plain": [
       "(r**2*y*(G_{F}*M_{Z}**2*Q**2*\\lambda*(y - 2)*(\\lambda*g_{A}^e - g_{V}^e)*(F_3^{Z}*G_{F}*M_{Z}**2*Q**2*(\\lambda*g_{A}^e - g_{V}^e) - 2*sqrt(2)*pi*F_3^{\\gamma Z}*\\alpha*(M_{Z}**2 + Q**2)) + 2*y*(F_1^{Z}*G_{F}**2*M_{Z}**4*Q**4*(\\lambda*g_{A}^e - g_{V}^e)**2 - 2*sqrt(2)*pi*F_1^{\\gamma Z}*G_{F}*M_{Z}**2*Q**2*\\alpha*(M_{Z}**2 + Q**2)*(\\lambda*g_{A}^e - g_{V}^e) + 8*pi**2*F_1^{\\gamma}*\\alpha**2*(M_{Z}**2 + Q**2)**2)) - (y**2*(r**2 - 1) + 4*y - 4)*(F_1^{Z}*G_{F}**2*M_{Z}**4*Q**4*(R^{Z} + 1)*(\\lambda*g_{A}^e - g_{V}^e)**2 - 2*sqrt(2)*pi*F_1^{\\gamma Z}*G_{F}*M_{Z}**2*Q**2*\\alpha*(M_{Z}**2 + Q**2)*(R^{\\gamma Z} + 1)*(\\lambda*g_{A}^e - g_{V}^e) + 8*pi**2*F_1^{\\gamma}*\\alpha**2*(M_{Z}**2 + Q**2)**2*(R^{\\gamma} + 1)))/(4*pi*Q**2*r**2*y*(M_{Z}**2 + Q**2)**2)"
      ]
     },
     "execution_count": 163,
     "metadata": {},
     "output_type": "execute_result"
    }
   ],
   "source": [
    "dxsec = front_factor*(x*y**2*F1 + (1-y-x**2*y**2*(r**2-1)/sp.S(4)/x**2)*F2 - lam*x*(y-y**2/sp.S(2))*F3)\n",
    "dxsec = dxsec.subs(F1,F1_g + eta_gZ*(gVe-lam*gAe)*F1_gZ + eta_Z*(gVe-lam*gAe)**2*F1_Z)\n",
    "dxsec = dxsec.subs(F2,F2_g + eta_gZ*(gVe-lam*gAe)*F2_gZ + eta_Z*(gVe-lam*gAe)**2*F2_Z)\n",
    "dxsec = dxsec.subs(F3,F3_g + eta_gZ*(gVe-lam*gAe)*F3_gZ + eta_Z*(gVe-lam*gAe)**2*F3_Z)\n",
    "\n",
    "dxsec = dxsec.subs(F2_g ,2*x*(R_g+1)*F1_g/r**2)\n",
    "dxsec = dxsec.subs(F2_gZ,2*x*(R_gZ+1)*F1_gZ/r**2)\n",
    "dxsec = dxsec.subs(F2_Z ,2*x*(R_Z+1)*F1_Z/r**2)\n",
    "\n",
    "# eps = sp.Symbol(r'\\epsilon')\n",
    "# dxsec = dxsec.subs(MZ,Q/eps).series(eps,0,1).removeO().simplify()\n",
    "# dxsec = dxsec.subs(GF,eps*alfa).series(eps,0,2).removeO().subs(eps,GF/alfa).simplify()\n",
    "\n",
    "dxsec.simplify()"
   ]
  },
  {
   "cell_type": "markdown",
   "id": "9f49f3fe",
   "metadata": {},
   "source": [
    "### Asymmetry"
   ]
  },
  {
   "cell_type": "code",
   "execution_count": 164,
   "id": "9eb45a50",
   "metadata": {},
   "outputs": [],
   "source": [
    "dxsec_R = dxsec.subs(lam,1)\n",
    "dxsec_L = dxsec.subs(lam,-1)"
   ]
  },
  {
   "cell_type": "code",
   "execution_count": 165,
   "id": "3ae25e87",
   "metadata": {},
   "outputs": [],
   "source": [
    "num = dxsec_R - dxsec_L\n",
    "den = dxsec_R + dxsec_L"
   ]
  },
  {
   "cell_type": "code",
   "execution_count": 166,
   "id": "c93b45b4",
   "metadata": {},
   "outputs": [],
   "source": [
    "APV = num/den"
   ]
  },
  {
   "cell_type": "code",
   "execution_count": 167,
   "id": "dfa4517e",
   "metadata": {},
   "outputs": [],
   "source": [
    "eps = sp.Symbol(r'\\epsilon')\n",
    "APV = APV.subs(MZ,Q/eps).series(eps,0,1).removeO().simplify()\n",
    "APV = APV.subs(GF,eps*alfa).series(eps,0,2).removeO().subs(eps,GF/alfa).simplify()"
   ]
  },
  {
   "cell_type": "code",
   "execution_count": 168,
   "id": "4820e23e",
   "metadata": {},
   "outputs": [],
   "source": [
    "num,den = sp.fraction(APV)"
   ]
  },
  {
   "cell_type": "code",
   "execution_count": 169,
   "id": "cfbd4de8",
   "metadata": {},
   "outputs": [],
   "source": [
    "a1,a3 = sp.symbols(r'a_1 a_3',real=True)\n",
    "num = num.subs(F1_gZ,a1*F1_g/2/gAe).subs(F3_gZ,a3*F1_g/gVe).simplify()"
   ]
  },
  {
   "cell_type": "code",
   "execution_count": 170,
   "id": "e21d6fc7",
   "metadata": {},
   "outputs": [
    {
     "data": {
      "text/latex": [
       "$\\displaystyle Y_{1} = \\frac{- R^{\\gamma Z} r^{2} y^{2} + R^{\\gamma Z} y^{2} - 4 R^{\\gamma Z} y + 4 R^{\\gamma Z} + r^{2} y^{2} + y^{2} - 4 y + 4}{- R^{\\gamma} r^{2} y^{2} + R^{\\gamma} y^{2} - 4 R^{\\gamma} y + 4 R^{\\gamma} + r^{2} y^{2} + y^{2} - 4 y + 4}$"
      ],
      "text/plain": [
       "Eq(Y_1, (-R^{\\gamma Z}*r**2*y**2 + R^{\\gamma Z}*y**2 - 4*R^{\\gamma Z}*y + 4*R^{\\gamma Z} + r**2*y**2 + y**2 - 4*y + 4)/(-R^{\\gamma}*r**2*y**2 + R^{\\gamma}*y**2 - 4*R^{\\gamma}*y + 4*R^{\\gamma} + r**2*y**2 + y**2 - 4*y + 4))"
      ]
     },
     "metadata": {},
     "output_type": "display_data"
    },
    {
     "data": {
      "text/latex": [
       "$\\displaystyle Y_{3} = \\frac{2 r^{2} y \\left(2 - y\\right)}{- R^{\\gamma} r^{2} y^{2} + R^{\\gamma} y^{2} - 4 R^{\\gamma} y + 4 R^{\\gamma} + r^{2} y^{2} + y^{2} - 4 y + 4}$"
      ],
      "text/plain": [
       "Eq(Y_3, 2*r**2*y*(2 - y)/(-R^{\\gamma}*r**2*y**2 + R^{\\gamma}*y**2 - 4*R^{\\gamma}*y + 4*R^{\\gamma} + r**2*y**2 + y**2 - 4*y + 4))"
      ]
     },
     "metadata": {},
     "output_type": "display_data"
    }
   ],
   "source": [
    "APV = (num/den).simplify()\n",
    "factor = -sp.sqrt(2)*GF*Q**2/sp.S(8)/sp.pi/alfa\n",
    "\n",
    "Y1_ = (APV/factor).subs(a1,1).subs(a3,0)#.subs(R_g,r**2-1).subs(R_gZ,r**2-1).subs(r,1)\n",
    "Y3_ = (APV/factor).subs(a1,0).subs(a3,1)#.subs(R_g,r**2-1).subs(R_gZ,r**2-1).subs(r,1)\n",
    "\n",
    "Y1 = sp.Symbol('Y_1')\n",
    "Y3 = sp.Symbol('Y_3')\n",
    "display(sp.Eq(Y1,Y1_.simplify()))\n",
    "display(sp.Eq(Y3,Y3_.simplify()))"
   ]
  },
  {
   "cell_type": "code",
   "execution_count": 171,
   "id": "78433964",
   "metadata": {},
   "outputs": [],
   "source": [
    "_Y1 = (1+R_gZ)/(1+R_g) * (1+(1-y)**2-y**2/sp.S(2)*(1+r**2-2*r**2/(1+R_gZ))) / (1+(1-y)**2-y**2/sp.S(2)*(1+r**2-2*r**2/(1+R_g)))\n",
    "_Y3 = r**2/(1+R_g) * (1-(1-y)**2) / (1+(1-y)**2-y**2/sp.S(2)*(1+r**2-2*r**2/(1+R_g)))"
   ]
  },
  {
   "cell_type": "code",
   "execution_count": 174,
   "id": "2c13a829",
   "metadata": {},
   "outputs": [
    {
     "data": {
      "text/latex": [
       "$\\displaystyle 0$"
      ],
      "text/plain": [
       "0"
      ]
     },
     "metadata": {},
     "output_type": "display_data"
    },
    {
     "data": {
      "text/latex": [
       "$\\displaystyle 0$"
      ],
      "text/plain": [
       "0"
      ]
     },
     "metadata": {},
     "output_type": "display_data"
    }
   ],
   "source": [
    "diff1 = _Y1 - Y1_\n",
    "diff3 = _Y3 - Y3_\n",
    "\n",
    "display(diff1.cancel())\n",
    "display(diff3.cancel())"
   ]
  },
  {
   "cell_type": "code",
   "execution_count": null,
   "id": "c655535f",
   "metadata": {},
   "outputs": [],
   "source": []
  },
  {
   "cell_type": "code",
   "execution_count": null,
   "id": "69752088",
   "metadata": {},
   "outputs": [],
   "source": []
  }
 ],
 "metadata": {
  "kernelspec": {
   "display_name": "Python 3",
   "language": "python",
   "name": "python3"
  },
  "language_info": {
   "codemirror_mode": {
    "name": "ipython",
    "version": 3
   },
   "file_extension": ".py",
   "mimetype": "text/x-python",
   "name": "python",
   "nbconvert_exporter": "python",
   "pygments_lexer": "ipython3",
   "version": "3.8.6"
  }
 },
 "nbformat": 4,
 "nbformat_minor": 5
}
