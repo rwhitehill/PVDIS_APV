{
 "cells": [
  {
   "cell_type": "code",
   "execution_count": 3,
   "id": "9d5cbe40",
   "metadata": {},
   "outputs": [],
   "source": [
    "import sympy as sp\n",
    "\n",
    "import sys,os,subprocess\n",
    "sys.path.insert(0,'/work/JAM/apps/bin')\n",
    "os.environ[\"PATH\"]='/work/JAM/apps/bin:'+os.environ[\"PATH\"]\n",
    "from qgraf import QGRAF\n",
    "from form import FORM,to_sympy,run_form,run_form2,to_sympy\n",
    "from tools import checkdir,save,load,lprint,lpprint,evalf\n",
    "\n",
    "import sympy as sp\n",
    "from sympy.parsing.sympy_parser import parse_expr\n",
    "from sympy import mathematica_code as mcode\n",
    "from sympy.utilities.lambdify import lambdastr"
   ]
  },
  {
   "cell_type": "code",
   "execution_count": 2,
   "id": "63944b5e",
   "metadata": {},
   "outputs": [
    {
     "name": "stdout",
     "output_type": "stream",
     "text": [
      "[test] =\n",
      "- 4*e_(o1,o2,o3,o4)*i_;\n"
     ]
    }
   ],
   "source": [
    "code = '''\n",
    "Off Statistics;\n",
    "Autodeclare Index o;\n",
    "Index s;\n",
    "\n",
    "L [gamma5] = -I_*g5_(s);\n",
    "L [test]   = g_(s,o1)*g_(s,o2)*g_(s,o3)*g_(s,o4)*[gamma5];\n",
    "\n",
    "Trace4,s;\n",
    "\n",
    "Print [test];\n",
    "'''\n",
    "data = run_form(code,verb=3)"
   ]
  },
  {
   "cell_type": "code",
   "execution_count": 3,
   "id": "a762b246",
   "metadata": {},
   "outputs": [
    {
     "name": "stdout",
     "output_type": "stream",
     "text": [
      "[test] =\n",
      "24;\n"
     ]
    }
   ],
   "source": [
    "code = '''\n",
    "Off Statistics;\n",
    "Autodeclare Index o;\n",
    "𝑎1𝑎2+𝑣1𝑣2\n",
    "L [test] = e_(o1,o2,o3,o4)*e_(o1,o2,o3,o4);\n",
    "contract;\n",
    "\n",
    "Print [test];\n",
    "'''\n",
    "data = run_form(code,verb=3)"
   ]
  },
  {
   "cell_type": "code",
   "execution_count": 3,
   "id": "00002352",
   "metadata": {},
   "outputs": [
    {
     "name": "stdout",
     "output_type": "stream",
     "text": [
      "[test] =\n",
      "2*d_(o3,o5)*d_(o4,o6) - 2*d_(o3,o6)*d_(o4,o5);\n"
     ]
    }
   ],
   "source": [
    "code = '''\n",
    "Off Statistics;\n",
    "Autodeclare Index o;\n",
    "\n",
    "L [test] = e_(o1,o2,o3,o4)*e_(o1,o2,o5,o6);\n",
    "contract;\n",
    "\n",
    "Print [test];\n",
    "'''\n",
    "data = run_form(code,verb=3)"
   ]
  },
  {
   "cell_type": "code",
   "execution_count": 5,
   "id": "a3f45a7b",
   "metadata": {},
   "outputs": [
    {
     "name": "stdout",
     "output_type": "stream",
     "text": [
      "[test] =\n",
      "- 2*d_(o3,o5)*d_(o4,o6) + 2*d_(o3,o6)*d_(o4,o5);\n"
     ]
    }
   ],
   "source": [
    "code = '''\n",
    "Off Statistics;\n",
    "Autodeclare Index o;\n",
    "CFunction e(antisymmetric);\n",
    "\n",
    "L [test] = e(o1,o2,o3,o4)*e(o1,o2,o5,o6);\n",
    "\n",
    "id e(o1,o2,o3?,o4?)*e(o1,o2,o5?,o6?) = -2*(d_(o3,o5)*d_(o4,o6) - d_(o3,o6)*d_(o4,o5));\n",
    "\n",
    "Print [test];\n",
    "'''\n",
    "data = run_form(code,verb=3)"
   ]
  },
  {
   "cell_type": "markdown",
   "id": "e9c665fd",
   "metadata": {},
   "source": [
    "# Derive Leptonic Tensor Forms"
   ]
  },
  {
   "cell_type": "code",
   "execution_count": 6,
   "id": "e83251c1",
   "metadata": {},
   "outputs": [
    {
     "name": "stdout",
     "output_type": "stream",
     "text": [
      "[gamma] =\n",
      "2*l(o1)*lp(o2) + 2*l(o2)*lp(o1) + 2*d_(o1,o2)*m^2 - 2*d_(o1,o2)*l.lp + 2\n",
      "*e_(l,lp,o1,o2)*i_*lam;\n",
      "[gamma,Z] =\n",
      "2*l(o1)*lp(o2)*gV + 2*l(o1)*lp(o2)*lam*gA + 2*l(o2)*lp(o1)*gV + 2*l(o2)*\n",
      "lp(o1)*lam*gA + 2*d_(o1,o2)*m^2*gV + 2*d_(o1,o2)*lam*m^2*gA - 2*\n",
      "d_(o1,o2)*l.lp*gV - 2*d_(o1,o2)*l.lp*lam*gA - 2*e_(l,lp,o1,o2)*i_*gA + 2\n",
      "*e_(l,lp,o1,o2)*i_*lam*gV;\n",
      "[Z] =\n",
      "2*l(o1)*lp(o2)*gA^2 + 2*l(o1)*lp(o2)*gV^2 + 2*l(o2)*lp(o1)*gA^2 + 2*\n",
      "l(o2)*lp(o1)*gV^2 - 2*d_(o1,o2)*m^2*gA^2 + 2*d_(o1,o2)*m^2*gV^2 + 4*\n",
      "d_(o1,o2)*lam*m^2*gV*gA - 2*d_(o1,o2)*l.lp*gA^2 - 2*d_(o1,o2)*l.lp*gV^2\n",
      "+ 2*e_(l,lp,o1,o2)*i_*lam*gA^2 + 2*e_(l,lp,o1,o2)*i_*lam*gV^2;\n"
     ]
    }
   ],
   "source": [
    "code = '''\n",
    "Off Statistics;𝑎1𝑎2+𝑣1𝑣2\n",
    "AutoDeclare Index o;\n",
    "Index s;\n",
    "Vector l,lp;\n",
    "Symbol lam,m,gV,gA;\n",
    "Cfunction dot;\n",
    "Autodeclare Vector V;\n",
    "\n",
    "L [gamma]   = (1+lam*(-I_*g5_(s)))*(g_(s,l)+m)*g_(s,o1)*(g_(s,lp)+m)*g_(s,o2)/2;\n",
    "L [gamma,Z] = (1+lam*(-I_*g5_(s)))*(g_(s,l)+m)*g_(s,o1)*(g_(s,lp)+m)*g_(s,o2)*(gV-gA*(-I_*g5_(s)))/2;\n",
    "L [Z]       = (1+lam*(-I_*g5_(s)))*(g_(s,l)+m)*(gV-gA*(-I_*g5_(s)))*g_(s,o1)*(g_(s,lp)+m)*g_(s,o2)*(gV-gA*(-I_*g5_(s)))/2;\n",
    "\n",
    "*contract;\n",
    "Trace4,s;\n",
    "\n",
    "print [gamma];\n",
    "print [gamma,Z];\n",
    "print [Z];\n",
    "'''\n",
    "data = run_form(code,verb=3)\n",
    "# to_sympy(data['temp'].replace(r'S','s')).subs(r'lam',sp.symbols('\\lambda')).simplify()"
   ]
  },
  {
   "cell_type": "markdown",
   "id": "0730be1c",
   "metadata": {},
   "source": [
    "# Derive Cross Section"
   ]
  },
  {
   "cell_type": "code",
   "execution_count": 40,
   "id": "325a1f60",
   "metadata": {},
   "outputs": [
    {
     "name": "stdout",
     "output_type": "stream",
     "text": [
      "2*Q^2*x^-1*y^-2*F2 - 2*Q^2*x^-1*y^-1*F2 + 2*Q^2*F1 - 2*Q^2*h*x^-1*y^-2*g4 + 2*Q^2*h*x^-1*y^-1*g4 - 2*Q^2*h*g5 - 2*Q^2*lam*y^-1*F3 + Q^2*lam*F3- 4*Q^2*lam*h*y^-1*g1 + 2*Q^2*lam*h*g1 - 2*M^2*x*F2 - 4*M^2*h*x*y^-1*g4+ 4*M^2*h*x*y^-1*g3 + 6*M^2*h*x*g4 - 4*M^2*h*x*g3 - 4*M^2*h*x^2*y*g5 +8*M^2*lam*h*x^2*g2 + 4*M^2*lam*h*x^2*y*g1 + 4*M^4*Q^-2*h*x^3*y*g4 - 4*M^4*Q^-2*h*x^3*y*g3\n"
     ]
    }
   ],
   "source": [
    "code = '''\n",
    "Off Statistics;\n",
    "Symbols M,Q,lam,E,h;𝑎1𝑎2+𝑣1𝑣2\n",
    "Symbols x,y;\n",
    "Symbols n;\n",
    "Vectors P,q,S;\n",
    "Vectors Phat,Shat;\n",
    "Vectors l,lp;\n",
    "Autodeclare Vector V;\n",
    "Tensor ghat;\n",
    "Autodeclare Index o;\n",
    "Autodeclare Symbols F,g;\n",
    "Cfunction dot,e(antisymmetric);\n",
    "\n",
    "L [L] = 2*(l(o1)*lp(o2) + lp(o1)*l(o2) - l.lp*d_(o1,o2) - I_*lam*e(o1,o2,o3,o4)*l(o3)*lp(o4));\n",
    "L [W] = -(d_(o1,o2) - q(o1)*q(o2)/q^2)*F1 + (P(o1) - P.q/q^2*q(o1))*(P(o2) - P.q/q^2*q(o2))*F2/P.q - I_*e(o1,o2,o5,o6)*q(o5)*P(o6)*F3/2/P.q;\n",
    "\n",
    "L [LW] = [L]*[W];\n",
    "\n",
    "*contract;\n",
    "id e(o1,o2,o3?,o4?)*e(o1,o2,o5?,o6?) = -2*(d_(o3,o5)*d_(o4,o6) - d_(o3,o6)*d_(o4,o5));\n",
    "id lp = l - q;\n",
    "id P.S = 0;\n",
    "id P.P = M^2;\n",
    "id S.l = -h*E*M;*Q^2/2/x/y;\n",
    "id S.q = -h*E*M*(y+Q^2/2/E^2);*-h*Q^2/2/x*(1+2*x^2*y*M^2/Q^2);\n",
    "id E = Q^2/2/M/x/y;\n",
    "id E^n? = (Q^2/2/M/x/y)^n;\n",
    "id E^-n? = (Q^2/2/M/x/y)^-n;\n",
    "id l.l = 0;\n",
    "id q.q = -Q^2;\n",
    "id P.l = P.q/y;\n",
    "id P.q = Q^2/2/x;\n",
    "id P.q^-1 = 2*x/Q^2;\n",
    "id q.l = -Q^2/2;\n",
    "id V1?.V2? = dot(V1,V2);\n",
    "id V1?.V2?^n? = (dot(V1,V2))^n;\n",
    "id V1?.V2?^-n? = (dot(V1,V2))^-n;\n",
    "\n",
    "print [LW];\n",
    "'''\n",
    "data = run_form(code,verb=0)\n",
    "print(data['LW'])\n",
    "data['LW'] = data['LW'].replace(r'Q','q').replace('E','e').replace('S','s')\n",
    "data['LW'] = data['LW'].replace(r'sqrt_','sqrt')\n",
    "data['LW'] = to_sympy(data['LW'])\n",
    "\n",
    "lam  = sp.symbols(r'\\lambda')\n",
    "h    = sp.symbols(r'h')\n",
    "M    = sp.symbols(r'M')\n",
    "Q    = sp.symbols(r'Q')\n",
    "E    = sp.symbols(r'E')\n",
    "x    = sp.symbols(r'x')\n",
    "y    = sp.symbols(r'y')\n",
    "alfa = sp.symbols(r'\\alpha')\n",
    "F1,F2,F3       = sp.symbols('F_1 F_2 F_3')\n",
    "g1,g2,g3,g4,g5 = sp.symbols('g_1 g_2 g_3 g_4 g_5')\n",
    "\n",
    "\n",
    "data['LW'] = data['LW'].subs(r'lam',lam)\n",
    "data['LW'] = data['LW'].subs('q',Q).subs('e',E)\n",
    "data['LW'] = data['LW'].subs(sp.Symbol('F1'),F1).subs(sp.Symbol('F2'),F2).subs(sp.Symbol('F3'),F3)\n",
    "data['LW'] = data['LW'].subs(sp.Symbol('g1'),g1).subs(sp.Symbol('g2'),g2).subs(sp.Symbol('g3'),g3).subs(sp.Symbol('g4'),g4).subs(sp.Symbol('g5'),g5)"
   ]
  },
  {
   "cell_type": "markdown",
   "id": "39938e97",
   "metadata": {},
   "source": [
    "### Unpolarized part"
   ]
  },
  {
   "cell_type": "code",
   "execution_count": 43,
   "id": "b1e70f01",
   "metadata": {},
   "outputs": [
    {
     "data": {
      "text/latex": [
       "$\\displaystyle x y^{2}$"
      ],
      "text/plain": [
       "x*y**2"
      ]
     },
     "metadata": {},
     "output_type": "display_data"
    },
    {
     "data": {
      "text/latex": [
       "$\\displaystyle - \\frac{M^{2} x^{2} y^{2}}{Q^{2}} - y + 1$"
      ],
      "text/plain": [
       "-M**2*x**2*y**2/Q**2 - y + 1"
      ]
     },
     "metadata": {},
     "output_type": "display_data"
    },
    {
     "data": {
      "text/latex": [
       "$\\displaystyle \\frac{\\lambda x y \\left(y - 2\\right)}{2}$"
      ],
      "text/plain": [
       "\\lambda*x*y*(y - 2)/2"
      ]
     },
     "metadata": {},
     "output_type": "display_data"
    }
   ],
   "source": [
    "upol = (data['LW'].subs(h,-1) + data['LW'].subs(h,1))/sp.S(2)\n",
    "\n",
    "factor1  = 2*sp.pi*y*alfa**2/Q**4\n",
    "factor2 = 4*sp.pi*alfa**2/x/y/Q**2\n",
    "\n",
    "factor = factor1/factor2\n",
    "# display(factor)\n",
    "\n",
    "coeff1 = factor*upol.subs(F1,1).subs(F2,0).subs(F3,0)#.subs(M,0)\n",
    "coeff2 = factor*upol.subs(F1,0).subs(F2,1).subs(F3,0)#.subs(M,0)\n",
    "coeff3 = factor*upol.subs(F1,0).subs(F2,0).subs(F3,1)#.subs(M,0)\n",
    "\n",
    "display(coeff1.simplify())\n",
    "display(coeff2.simplify())\n",
    "display(coeff3.simplify())"
   ]
  },
  {
   "cell_type": "markdown",
   "id": "53620f5f",
   "metadata": {},
   "source": [
    "# Derive Projectors"
   ]
  },
  {
   "cell_type": "code",
   "execution_count": 15,
   "id": "00078887",
   "metadata": {},
   "outputs": [],
   "source": [
    "code = '''\n",
    "Off Statistics;\n",
    "Symbols M,Q,lam,h;\n",
    "Symbols x,y;\n",
    "Symbols n;\n",
    "Vectors P,q,S;\n",
    "Vectors Phat,Shat;\n",
    "Autodeclare Vector V;\n",
    "Autodeclare Index o;\n",
    "Autodeclare Symbols F;\n",
    "Cfunction dot,e(antisymmetric);\n",
    "\n",
    "L [Wu] = -(d_(o1,o2) + q(o1)*q(o2)/Q^2)*F1 + (P(o1) + P.q/Q^2*q(o1))*(P(o2) + P.q/Q^2*q(o2))*F2/P.q - I_*e(o1,o2,o3,o4)*q(o3)*P(o4)*F3/2/P.q;\n",
    "\n",
    "L [Pg]   = d_(o1,o2)*[Wu];\n",
    "L [Ppp]  = P(o1)*P(o2)*[Wu];\n",
    "L [Pepq] = I_*e(o1,o2,o5,o6)*q(o5)*P(o6)*[Wu];\n",
    "\n",
    "*contract;\n",
    "id e(o1,o2,o3?,o4?)*e(o1,o2,o5?,o6?) = -2*(d_(o3,o5)*d_(o4,o6) - d_(o3,o6)*d_(o4,o5));\n",
    "id P.P = M^2;\n",
    "id q.q = -Q^2;\n",
    "id P.q = Q^2/2/x;\n",
    "id P.q^-1 = 2*x/Q^2;\n",
    "id V1?.V2? = dot(V1,V2);\n",
    "id V1?.V2?^n? = (dot(V1,V2))^(n);\n",
    "\n",
    "print [Pg];\n",
    "print [Ppp];\n",
    "print [Pepq];\n",
    "'''\n",
    "data = run_form(code,verb=0)\n",
    "\n",
    "# lam  = sp.symbols(r'\\lambda')\n",
    "# h    = sp.symbols(r'h')\n",
    "M = sp.symbols(r'M')\n",
    "Q = sp.symbols(r'Q')\n",
    "x = sp.symbols(r'x')\n",
    "y = sp.symbols(r'y')\n",
    "F1,F2,F3 = sp.symbols('F_1 F_2 F_3')\n",
    "\n",
    "for _ in data:\n",
    "    data[_] = data[_].replace(r'Q','q')\n",
    "    data[_] = data[_].replace(r'sqrt_','sqrt')\n",
    "    data[_] = to_sympy(data[_])\n",
    "    data[_] = data[_].subs('q',Q)\n",
    "    data[_] = data[_].subs('M',M)\n",
    "    data[_] = data[_].subs('F1',F1).subs('F2',F2).subs('F3',F3)\n",
    "#     data[_] = data[_].simplify().factor(F1,F2,F3)\n",
    "#     display(data[_])"
   ]
  },
  {
   "cell_type": "markdown",
   "id": "5e2b6052",
   "metadata": {},
   "source": [
    "$F_1$ projection"
   ]
  },
  {
   "cell_type": "code",
   "execution_count": 16,
   "id": "03450f84",
   "metadata": {},
   "outputs": [
    {
     "data": {
      "text/latex": [
       "$\\displaystyle a_{1}^{g} = - \\frac{1}{2}$"
      ],
      "text/plain": [
       "Eq(a_{1}^{g}, -1/2)"
      ]
     },
     "metadata": {},
     "output_type": "display_data"
    },
    {
     "data": {
      "text/latex": [
       "$\\displaystyle a_{1}^{pp} = \\frac{2 x^{2}}{4 M^{2} x^{2} + Q^{2}}$"
      ],
      "text/plain": [
       "Eq(a_{1}^{pp}, 2*x**2/(4*M**2*x**2 + Q**2))"
      ]
     },
     "metadata": {},
     "output_type": "display_data"
    },
    {
     "data": {
      "text/latex": [
       "$\\displaystyle a_{1}^{epq} = 0$"
      ],
      "text/plain": [
       "Eq(a_{1}^{epq}, 0)"
      ]
     },
     "metadata": {},
     "output_type": "display_data"
    }
   ],
   "source": [
    "a1g,a1pp,a1epq = sp.symbols(r'a_{1}^{g} a_{1}^{pp} a_{1}^{epq}')\n",
    "expr = a1g*data['Pg'] + a1pp*data['Ppp'] + a1epq*data['Pepq']\n",
    "\n",
    "eq1 = sp.Eq(expr.subs(F1,1).subs(F2,0).subs(F3,0),1)\n",
    "eq2 = sp.Eq(expr.subs(F1,0).subs(F2,1).subs(F3,0),0)\n",
    "eq3 = sp.Eq(expr.subs(F1,0).subs(F2,0).subs(F3,1),0)\n",
    "\n",
    "sol = sp.solve([eq1,eq2,eq3],[a1g,a1pp,a1epq])\n",
    "for _ in sol.keys():\n",
    "    sol[_] = sol[_].simplify().factor()#.subs(M,0)\n",
    "    display(sp.Eq(_,sol[_]))"
   ]
  },
  {
   "cell_type": "markdown",
   "id": "b19fccf3",
   "metadata": {},
   "source": [
    "$F_2$ projection"
   ]
  },
  {
   "cell_type": "code",
   "execution_count": 17,
   "id": "21993f7f",
   "metadata": {},
   "outputs": [
    {
     "data": {
      "text/latex": [
       "$\\displaystyle a_{2}^{g} = - \\frac{Q^{2} x}{4 M^{2} x^{2} + Q^{2}}$"
      ],
      "text/plain": [
       "Eq(a_{2}^{g}, -Q**2*x/(4*M**2*x**2 + Q**2))"
      ]
     },
     "metadata": {},
     "output_type": "display_data"
    },
    {
     "data": {
      "text/latex": [
       "$\\displaystyle a_{2}^{pp} = \\frac{12 Q^{2} x^{3}}{\\left(4 M^{2} x^{2} + Q^{2}\\right)^{2}}$"
      ],
      "text/plain": [
       "Eq(a_{2}^{pp}, 12*Q**2*x**3/(4*M**2*x**2 + Q**2)**2)"
      ]
     },
     "metadata": {},
     "output_type": "display_data"
    },
    {
     "data": {
      "text/latex": [
       "$\\displaystyle a_{2}^{epq} = 0$"
      ],
      "text/plain": [
       "Eq(a_{2}^{epq}, 0)"
      ]
     },
     "metadata": {},
     "output_type": "display_data"
    }
   ],
   "source": [
    "a2g,a2pp,a2epq = sp.symbols(r'a_{2}^{g} a_{2}^{pp} a_{2}^{epq}')\n",
    "expr = a2g*data['Pg'] + a2pp*data['Ppp'] + a2epq*data['Pepq']\n",
    "\n",
    "eq1 = sp.Eq(expr.subs(F1,1).subs(F2,0).subs(F3,0),0)\n",
    "eq2 = sp.Eq(expr.subs(F1,0).subs(F2,1).subs(F3,0),1)\n",
    "eq3 = sp.Eq(expr.subs(F1,0).subs(F2,0).subs(F3,1),0)\n",
    "\n",
    "sol = sp.solve([eq1,eq2,eq3],[a2g,a2pp,a2epq])\n",
    "for _ in sol.keys():\n",
    "    sol[_] = sol[_].simplify().factor()#.subs(M,0)\n",
    "    display(sp.Eq(_,sol[_]))"
   ]
  },
  {
   "cell_type": "markdown",
   "id": "f9084001",
   "metadata": {},
   "source": [
    "$F_3$ projection"
   ]
  },
  {
   "cell_type": "code",
   "execution_count": 18,
   "id": "0cdb6f03",
   "metadata": {},
   "outputs": [
    {
     "data": {
      "text/latex": [
       "$\\displaystyle a_{3}^{g} = 0$"
      ],
      "text/plain": [
       "Eq(a_{3}^{g}, 0)"
      ]
     },
     "metadata": {},
     "output_type": "display_data"
    },
    {
     "data": {
      "text/latex": [
       "$\\displaystyle a_{3}^{pp} = 0$"
      ],
      "text/plain": [
       "Eq(a_{3}^{pp}, 0)"
      ]
     },
     "metadata": {},
     "output_type": "display_data"
    },
    {
     "data": {
      "text/latex": [
       "$\\displaystyle a_{3}^{epq} = \\frac{2 x}{4 M^{2} x^{2} + Q^{2}}$"
      ],
      "text/plain": [
       "Eq(a_{3}^{epq}, 2*x/(4*M**2*x**2 + Q**2))"
      ]
     },
     "metadata": {},
     "output_type": "display_data"
    }
   ],
   "source": [
    "a3g,a3pp,a3epq = sp.symbols(r'a_{3}^{g} a_{3}^{pp} a_{3}^{epq}')\n",
    "expr = a3g*data['Pg'] + a3pp*data['Ppp'] + a3epq*data['Pepq']\n",
    "\n",
    "eq1 = sp.Eq(expr.subs(F1,1).subs(F2,0).subs(F3,0),0)\n",
    "eq2 = sp.Eq(expr.subs(F1,0).subs(F2,1).subs(F3,0),0)\n",
    "eq3 = sp.Eq(expr.subs(F1,0).subs(F2,0).subs(F3,1),1)\n",
    "\n",
    "sol = sp.solve([eq1,eq2,eq3],[a3g,a3pp,a3epq])\n",
    "sol\n",
    "for _ in sol.keys():\n",
    "    sol[_] = sol[_].simplify().factor()#.subs(M,0)\n",
    "    display(sp.Eq(_,sol[_]))"
   ]
  },
  {
   "cell_type": "markdown",
   "id": "9c53479d",
   "metadata": {},
   "source": [
    "# Calculate Hadronic tensor directly"
   ]
  },
  {
   "cell_type": "code",
   "execution_count": 10,
   "id": "8693528f",
   "metadata": {},
   "outputs": [
    {
     "data": {
      "text/latex": [
       "$\\displaystyle \\frac{a_{1} a_{2} + v_{1} v_{2}}{2}$"
      ],
      "text/plain": [
       "(a_1*a_2 + v_1*v_2)/2"
      ]
     },
     "metadata": {},
     "output_type": "display_data"
    },
    {
     "data": {
      "text/latex": [
       "$\\displaystyle x \\left(a_{1} a_{2} + v_{1} v_{2}\\right)$"
      ],
      "text/plain": [
       "x*(a_1*a_2 + v_1*v_2)"
      ]
     },
     "metadata": {},
     "output_type": "display_data"
    },
    {
     "data": {
      "text/latex": [
       "$\\displaystyle a_{1} v_{2} + a_{2} v_{1}$"
      ],
      "text/plain": [
       "a_1*v_2 + a_2*v_1"
      ]
     },
     "metadata": {},
     "output_type": "display_data"
    }
   ],
   "source": [
    "code = '''\n",
    "Off Statistics;\n",
    "Autodeclare Symbols a,v;\n",
    "Autodeclare Index o;\n",
    "Vector S,q,P;\n",
    "Vector p,p1;\n",
    "Symbol x,M,Q;\n",
    "Symbol n;\n",
    "CFunction e(antisymmetric);\n",
    "\n",
    "L [Whatu] = 2*(a1*a2+v1*v2)*(p(o1)*p1(o2) + p1(o1)*p(o2) - d_(o1,o2)*p.p1) + 2*(v1*a2+a1*v2)*I_*e(o1,o2,o3,o4)*p(o3)*p1(o4);\n",
    "\n",
    "L [Pg]   = d_(o1,o2)*[Whatu];\n",
    "L [Ppp]  = P(o1)*P(o2)*[Whatu];\n",
    "L [Pepq] = I_*e(o1,o2,o5,o6)*q(o5)*P(o6)*[Whatu];\n",
    "\n",
    "L [P1] = -[Pg]/2 + 2*x^2/(4*M^2*x^2+Q^2)*[Ppp];\n",
    "L [P2] = -Q^2*x/(4*M^2*x^2+Q^2)*[Pg] + 12*Q^2*x^3/(4*M^2*x^2+Q^2)^2*[Ppp];\n",
    "L [P3] = 2*x/(4*M^2*x^2+Q^2)*I_*e(o1,o2,q,P)*[Whatu];\n",
    "\n",
    "*contract;\n",
    "id e(o1,o2,o3?,o4?)*e(o1,o2,o5?,o6?) = -2*(d_(o3,o5)*d_(o4,o6) - d_(o3,o6)*d_(o4,o5));\n",
    "id p1 = p + q;\n",
    "id p = x*P;\n",
    "id P.P = M^2;\n",
    "id q.q = -Q^2;\n",
    "id P.q = Q^2/2/x;\n",
    "*id V1?.V2? = dot(V1,V2);\n",
    "\n",
    "Print [P1];\n",
    "Print [P2];\n",
    "Print [P3];\n",
    "'''\n",
    "data = run_form(code,verb=0)\n",
    "\n",
    "M = sp.symbols(r'M')\n",
    "Q = sp.symbols(r'Q')\n",
    "x = sp.symbols(r'x')\n",
    "y = sp.symbols(r'y')\n",
    "xi = sp.symbols(r'\\xi')\n",
    "F1,F2,F3 = sp.symbols('F_1 F_2 F_3')\n",
    "a1,a2 = sp.symbols(r'a_(1:3)')\n",
    "v1,v2 = sp.symbols(r'v_(1:3)')\n",
    "\n",
    "for _ in data:\n",
    "    data[_] = data[_].replace(r'Q','q')\n",
    "    data[_] = data[_].replace(r'sqrt_','sqrt')\n",
    "    data[_] = to_sympy(data[_])\n",
    "    data[_] = data[_].subs(r'a1',a1).subs(r'a2',a2).subs(r'v1',v1).subs(r'v2',v2)\n",
    "    data[_] = data[_].subs('q',Q)\n",
    "    data[_] = data[_].subs('M',0)\n",
    "    data[_] = data[_]*2*sp.pi/Q**2 # from on-shell delta function\n",
    "    data[_] = data[_]/sp.S(4)/sp.pi # from hadron tensor normalization\n",
    "#     data[_] = data[_].subs('F1',F1).subs('F2',F2).subs('F3',F3)\n",
    "    display(data[_].simplify().factor())"
   ]
  },
  {
   "cell_type": "code",
   "execution_count": 11,
   "id": "b0330eef",
   "metadata": {},
   "outputs": [],
   "source": [
    "gV   = sp.symbols(r'g_{V}^{i}')\n",
    "gA   = sp.symbols(r'g_{A}^{i}')\n",
    "f    = sp.Symbol(r'f_i',commutative=False)\n",
    "sig  = sp.Symbol(r'\\Sigma_{i}',commutative=False)\n",
    "eq   = sp.Symbol(r'e_{q}',commutative=False)"
   ]
  },
  {
   "cell_type": "markdown",
   "id": "9f208a78",
   "metadata": {},
   "source": [
    "$\\gamma$"
   ]
  },
  {
   "cell_type": "code",
   "execution_count": 12,
   "id": "69d2b399",
   "metadata": {},
   "outputs": [
    {
     "data": {
      "text/latex": [
       "$\\displaystyle F_{1} = \\frac{\\Sigma_{i} e_{q}^{2} f_{i}}{2}$"
      ],
      "text/plain": [
       "Eq(F_1, \\Sigma_{i}*e_{q}**2*f_i/2)"
      ]
     },
     "metadata": {},
     "output_type": "display_data"
    },
    {
     "data": {
      "text/latex": [
       "$\\displaystyle F_{2} = x \\Sigma_{i} e_{q}^{2} f_{i}$"
      ],
      "text/plain": [
       "Eq(F_2, x*\\Sigma_{i}*e_{q}**2*f_i)"
      ]
     },
     "metadata": {},
     "output_type": "display_data"
    },
    {
     "data": {
      "text/latex": [
       "$\\displaystyle F_{3} = 0$"
      ],
      "text/plain": [
       "Eq(F_3, 0)"
      ]
     },
     "metadata": {},
     "output_type": "display_data"
    }
   ],
   "source": [
    "display(sp.Eq(F1,sig*eq**2*data['P1'].subs(a1,0).subs(a2,0).subs(v1,1).subs(v2,1)*f))\n",
    "display(sp.Eq(F2,sig*eq**2*data['P2'].subs(a1,0).subs(a2,0).subs(v1,1).subs(v2,1)*f))\n",
    "display(sp.Eq(F3,sig*eq**2*data['P3'].subs(a1,0).subs(a2,0).subs(v1,1).subs(v2,1)*f))"
   ]
  },
  {
   "cell_type": "markdown",
   "id": "930ed008",
   "metadata": {},
   "source": [
    "$\\gamma Z$"
   ]
  },
  {
   "cell_type": "code",
   "execution_count": 13,
   "id": "e044d9a6",
   "metadata": {},
   "outputs": [
    {
     "data": {
      "text/latex": [
       "$\\displaystyle F_{1} = g_{V}^{i} \\Sigma_{i} e_{q} f_{i}$"
      ],
      "text/plain": [
       "Eq(F_1, g_{V}^{i}*\\Sigma_{i}*e_{q}*f_i)"
      ]
     },
     "metadata": {},
     "output_type": "display_data"
    },
    {
     "data": {
      "text/latex": [
       "$\\displaystyle F_{2} = 2 g_{V}^{i} x \\Sigma_{i} e_{q} f_{i}$"
      ],
      "text/plain": [
       "Eq(F_2, 2*g_{V}^{i}*x*\\Sigma_{i}*e_{q}*f_i)"
      ]
     },
     "metadata": {},
     "output_type": "display_data"
    },
    {
     "data": {
      "text/latex": [
       "$\\displaystyle F_{3} = 2 g_{A}^{i} \\Sigma_{i} e_{q} f_{i}$"
      ],
      "text/plain": [
       "Eq(F_3, 2*g_{A}^{i}*\\Sigma_{i}*e_{q}*f_i)"
      ]
     },
     "metadata": {},
     "output_type": "display_data"
    }
   ],
   "source": [
    "display(sp.Eq(F1,sig*eq*data['P1'].subs(a1,0).subs(a2,2*gA).subs(v1,1).subs(v2,2*gV)*f))\n",
    "display(sp.Eq(F2,sig*eq*data['P2'].subs(a1,0).subs(a2,2*gA).subs(v1,1).subs(v2,2*gV)*f))\n",
    "display(sp.Eq(F3,sig*eq*data['P3'].subs(a1,0).subs(a2,2*gA).subs(v1,1).subs(v2,2*gV)*f))"
   ]
  },
  {
   "cell_type": "markdown",
   "id": "4f7c1dec",
   "metadata": {},
   "source": [
    "$Z$"
   ]
  },
  {
   "cell_type": "code",
   "execution_count": 14,
   "id": "9dd0e905",
   "metadata": {},
   "outputs": [
    {
     "data": {
      "text/latex": [
       "$\\displaystyle F_{1} = \\frac{\\left(\\left(g_{A}^{i}\\right)^{2} + \\left(g_{V}^{i}\\right)^{2}\\right) \\Sigma_{i} f_{i}}{2}$"
      ],
      "text/plain": [
       "Eq(F_1, (g_{A}^{i}**2 + g_{V}^{i}**2)*\\Sigma_{i}*f_i/2)"
      ]
     },
     "metadata": {},
     "output_type": "display_data"
    },
    {
     "data": {
      "text/latex": [
       "$\\displaystyle F_{2} = x \\left(\\left(g_{A}^{i}\\right)^{2} + \\left(g_{V}^{i}\\right)^{2}\\right) \\Sigma_{i} f_{i}$"
      ],
      "text/plain": [
       "Eq(F_2, x*(g_{A}^{i}**2 + g_{V}^{i}**2)*\\Sigma_{i}*f_i)"
      ]
     },
     "metadata": {},
     "output_type": "display_data"
    },
    {
     "data": {
      "text/latex": [
       "$\\displaystyle F_{3} = 2 g_{A}^{i} g_{V}^{i} \\Sigma_{i} f_{i}$"
      ],
      "text/plain": [
       "Eq(F_3, 2*g_{A}^{i}*g_{V}^{i}*\\Sigma_{i}*f_i)"
      ]
     },
     "metadata": {},
     "output_type": "display_data"
    }
   ],
   "source": [
    "display(sp.Eq(F1,(sig*data['P1'].subs(a1,gA).subs(a2,gA).subs(v1,gV).subs(v2,gV)*f).simplify()))\n",
    "display(sp.Eq(F2,(sig*data['P2'].subs(a1,gA).subs(a2,gA).subs(v1,gV).subs(v2,gV)*f)).simplify())\n",
    "display(sp.Eq(F3,(sig*data['P3'].subs(a1,gA).subs(a2,gA).subs(v1,gV).subs(v2,gV)*f)).simplify())"
   ]
  },
  {
   "cell_type": "markdown",
   "id": "6fa231fa",
   "metadata": {},
   "source": [
    "# Delta Function (On-Shell condition for outgoing parton)"
   ]
  },
  {
   "cell_type": "markdown",
   "id": "0d4f4242",
   "metadata": {},
   "source": [
    "* $\\displaystyle\n",
    "\\delta_{+}(p'^2) = 2\\pi \\delta_{+}([q+p]^2) = 2\\pi \\delta_{+}(g(\\xi)) = \\frac{2\\pi}{|g'(\\xi_{\\rm root})|}\\delta_{+}(\\xi - \\xi_{\\rm root})\n",
    "$  \n",
    "    * Note: $g(\\xi) = 2p \\cdot q - Q^2$ (massless partons)"
   ]
  },
  {
   "cell_type": "code",
   "execution_count": null,
   "id": "c95649d9",
   "metadata": {},
   "outputs": [],
   "source": [
    "xi  = sp.symbols(r'\\xi')\n",
    "x   = sp.symbols(r'x')\n",
    "Q   = sp.symbols(r'Q')\n",
    "xhat = sp.symbols(r'\\hat{x}')\n",
    "\n",
    "g_xi    = xi*Q**2/x - Q**2\n",
    "xi_root = sp.solve(sp.Eq(g_xi,0),xi)[0]\n",
    "factor  = 1/sp.diff(g_xi,xi).subs(xi,xi_root)\n",
    "xhat_   = x/xi_root\n",
    "\n",
    "delta = sp.Function(r'\\delta')\n",
    "display(factor*delta(xi-xi_root))"
   ]
  },
  {
   "cell_type": "code",
   "execution_count": null,
   "id": "5ed9764b",
   "metadata": {},
   "outputs": [],
   "source": []
  },
  {
   "cell_type": "code",
   "execution_count": null,
   "id": "645e0c9e",
   "metadata": {},
   "outputs": [],
   "source": []
  }
 ],
 "metadata": {
  "kernelspec": {
   "display_name": "Python 3",
   "language": "python",
   "name": "python3"
  },
  "language_info": {
   "codemirror_mode": {
    "name": "ipython",
    "version": 3
   },
   "file_extension": ".py",
   "mimetype": "text/x-python",
   "name": "python",
   "nbconvert_exporter": "python",
   "pygments_lexer": "ipython3",
   "version": "3.8.6"
  }
 },
 "nbformat": 4,
 "nbformat_minor": 5
}
