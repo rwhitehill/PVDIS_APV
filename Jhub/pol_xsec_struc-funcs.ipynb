{
 "cells": [
  {
   "cell_type": "code",
   "execution_count": 1,
   "id": "45a04be2",
   "metadata": {},
   "outputs": [],
   "source": [
    "import sympy as sp\n",
    "\n",
    "import sys,os,subprocess\n",
    "sys.path.insert(0,'/work/JAM/apps/bin')\n",
    "os.environ[\"PATH\"]='/work/JAM/apps/bin:'+os.environ[\"PATH\"]\n",
    "from qgraf import QGRAF\n",
    "from form import FORM,to_sympy,run_form,run_form2,to_sympy\n",
    "from tools import checkdir,save,load,lprint,lpprint,evalf\n",
    "\n",
    "import sympy as sp\n",
    "from sympy.parsing.sympy_parser import parse_expr\n",
    "from sympy import mathematica_code as mcode\n",
    "from sympy.utilities.lambdify import lambdastr"
   ]
  },
  {
   "cell_type": "markdown",
   "id": "bdc64f11",
   "metadata": {},
   "source": [
    "# Derive Cross Section"
   ]
  },
  {
   "cell_type": "code",
   "execution_count": 2,
   "id": "c66b9c45",
   "metadata": {},
   "outputs": [
    {
     "name": "stdout",
     "output_type": "stream",
     "text": [
      "- 2*Q^2*h*x^-1*y^-2*g4 + 2*Q^2*h*x^-1*y^-1*g4 - 2*Q^2*h*g5 - 4*Q^2*lam*h*y^-1*g1 + 2*Q^2*lam*h*g1 - 4*M^2*h*x*y^-1*g4 + 4*M^2*h*x*y^-1*g3 + 6*M^2*h*x*g4 - 4*M^2*h*x*g3 - 4*M^2*h*x^2*y*g5 + 8*M^2*lam*h*x^2*g2 + 4*M^2*lam*h*x^2*y*g1 + 4*M^4*Q^-2*h*x^3*y*g4 - 4*M^4*Q^-2*h*x^3*y*g3\n"
     ]
    }
   ],
   "source": [
    "code = '''\n",
    "Off Statistics;\n",
    "Symbols M,Q,lam,E,h;\n",
    "Symbols x,y;\n",
    "Symbols n;\n",
    "Vectors P,q,S;\n",
    "Vectors Phat,Shat;\n",
    "Vectors l,lp;\n",
    "Autodeclare Vector V;\n",
    "Tensor ghat;\n",
    "Autodeclare Index o;\n",
    "Autodeclare Symbols F,g;\n",
    "Cfunction dot,e(antisymmetric);\n",
    "\n",
    "L [L] = 2*(l(o1)*lp(o2) + lp(o1)*l(o2) - l.lp*d_(o1,o2) - I_*lam*e(o1,o2,o3,o4)*l(o3)*lp(o4));\n",
    "L [W] = I_*e(o1,o2,o5,o6)*q(o5)*(S(o6)*g1 + (S(o6) - S.q/P.q*P(o6))*g2)/P.q\n",
    "        +(((P(o1) - P.q/q^2*q(o1))*(S(o2) - S.q/q^2*q(o2)) + (S(o1) - S.q/q^2*q(o1))*(P(o2) - P.q/q^2*q(o2)))/2 \n",
    "            - S.q/P.q*(P(o1) - P.q/q^2*q(o1))*(P(o2) - P.q/q^2*q(o2)))*g3/P.q\n",
    "        + S.q/P.q*((P(o1) - P.q/q^2*q(o1))*(P(o2) - P.q/q^2*q(o2))*g4/P.q -(d_(o1,o2) - q(o1)*q(o2)/q^2)*g5);\n",
    "\n",
    "L [LW] = [L]*[W];\n",
    "\n",
    "*contract;\n",
    "id e(o1,o2,o3?,o4?)*e(o1,o2,o5?,o6?) = -2*(d_(o3,o5)*d_(o4,o6) - d_(o3,o6)*d_(o4,o5));\n",
    "id lp = l - q;\n",
    "id P.S = 0;\n",
    "id P.P = M^2;\n",
    "id S.l = -h*E*M;*Q^2/2/x/y;\n",
    "id S.q = -h*E*M*(y+Q^2/2/E^2);*-h*Q^2/2/x*(1+2*x^2*y*M^2/Q^2);\n",
    "id E = Q^2/2/M/x/y;\n",
    "id E^n? = (Q^2/2/M/x/y)^n;\n",
    "id E^-n? = (Q^2/2/M/x/y)^-n;\n",
    "id l.l = 0;\n",
    "id q.q = -Q^2;\n",
    "id P.l = P.q/y;\n",
    "id P.q = Q^2/2/x;\n",
    "id P.q^-1 = 2*x/Q^2;\n",
    "id q.l = -Q^2/2;\n",
    "id V1?.V2? = dot(V1,V2);\n",
    "id V1?.V2?^n? = (dot(V1,V2))^n;\n",
    "id V1?.V2?^-n? = (dot(V1,V2))^-n;\n",
    "\n",
    "print [LW];\n",
    "'''\n",
    "data = run_form(code,verb=0)\n",
    "print(data['LW'])\n",
    "data['LW'] = data['LW'].replace(r'Q','q').replace('E','e').replace('S','s')\n",
    "data['LW'] = data['LW'].replace(r'sqrt_','sqrt')\n",
    "data['LW'] = to_sympy(data['LW'])\n",
    "\n",
    "lam  = sp.symbols(r'\\lambda')\n",
    "h    = sp.symbols(r'h')\n",
    "M    = sp.symbols(r'M')\n",
    "Q    = sp.symbols(r'Q')\n",
    "E    = sp.symbols(r'E')\n",
    "x    = sp.symbols(r'x')\n",
    "y    = sp.symbols(r'y')\n",
    "alfa = sp.symbols(r'\\alpha')\n",
    "F1,F2,F3       = sp.symbols('F_1 F_2 F_3')\n",
    "g1,g2,g3,g4,g5 = sp.symbols('g_1 g_2 g_3 g_4 g_5')\n",
    "\n",
    "\n",
    "data['LW'] = data['LW'].subs(r'lam',lam)\n",
    "data['LW'] = data['LW'].subs('q',Q).subs('e',E)\n",
    "data['LW'] = data['LW'].subs(sp.Symbol('F1'),F1).subs(sp.Symbol('F2'),F2).subs(sp.Symbol('F3'),F3)\n",
    "data['LW'] = data['LW'].subs(sp.Symbol('g1'),g1).subs(sp.Symbol('g2'),g2).subs(sp.Symbol('g3'),g3).subs(sp.Symbol('g4'),g4).subs(sp.Symbol('g5'),g5)"
   ]
  },
  {
   "cell_type": "code",
   "execution_count": 3,
   "id": "bcbd84cc",
   "metadata": {},
   "outputs": [
    {
     "data": {
      "text/latex": [
       "$\\displaystyle \\lambda x y \\left(- y \\left(2 \\left(\\frac{M}{Q}\\right)^{2} x^{2} y + 1\\right) + 2\\right)$"
      ],
      "text/plain": [
       "\\lambda*x*y*(-y*(2*\\left(\\frac{M}{Q}\\right)**2*x**2*y + 1) + 2)"
      ]
     },
     "metadata": {},
     "output_type": "display_data"
    },
    {
     "data": {
      "text/latex": [
       "$\\displaystyle - 4 \\lambda \\left(\\frac{M}{Q}\\right)^{2} x^{3} y^{2}$"
      ],
      "text/plain": [
       "-4*\\lambda*\\left(\\frac{M}{Q}\\right)**2*x**3*y**2"
      ]
     },
     "metadata": {},
     "output_type": "display_data"
    },
    {
     "data": {
      "text/latex": [
       "$\\displaystyle 2 \\left(\\frac{M}{Q}\\right)^{2} x^{2} y \\left(\\left(\\frac{M}{Q}\\right)^{2} x^{2} y^{2} + y - 1\\right)$"
      ],
      "text/plain": [
       "2*\\left(\\frac{M}{Q}\\right)**2*x**2*y*(\\left(\\frac{M}{Q}\\right)**2*x**2*y**2 + y - 1)"
      ]
     },
     "metadata": {},
     "output_type": "display_data"
    },
    {
     "data": {
      "text/latex": [
       "$\\displaystyle - \\left(2 \\left(\\frac{M}{Q}\\right)^{2} x^{2} y + 1\\right) \\left(\\left(\\frac{M}{Q}\\right)^{2} x^{2} y^{2} + y - 1\\right)$"
      ],
      "text/plain": [
       "-(2*\\left(\\frac{M}{Q}\\right)**2*x**2*y + 1)*(\\left(\\frac{M}{Q}\\right)**2*x**2*y**2 + y - 1)"
      ]
     },
     "metadata": {},
     "output_type": "display_data"
    },
    {
     "data": {
      "text/latex": [
       "$\\displaystyle x y^{2} \\cdot \\left(2 \\left(\\frac{M}{Q}\\right)^{2} x^{2} y + 1\\right)$"
      ],
      "text/plain": [
       "x*y**2*(2*\\left(\\frac{M}{Q}\\right)**2*x**2*y + 1)"
      ]
     },
     "metadata": {},
     "output_type": "display_data"
    }
   ],
   "source": [
    "pol = (data['LW'].subs(h,-1) - data['LW'].subs(h,1))#/sp.S(2)\n",
    "\n",
    "factor1  = 2*sp.pi*y*alfa**2/Q**4\n",
    "factor2 = 8*sp.pi*alfa**2/x/y/Q**2\n",
    "\n",
    "factor = factor1/factor2\n",
    "\n",
    "M_Q = sp.Symbol(r'\\left(\\frac{M}{Q}\\right)')\n",
    "\n",
    "coeff4 = factor*pol.subs(g1,1).subs(g2,0).subs(g3,0).subs(g4,0).subs(g5,0).subs(M,Q*M_Q)\n",
    "coeff5 = factor*pol.subs(g1,0).subs(g2,1).subs(g3,0).subs(g4,0).subs(g5,0).subs(M,Q*M_Q)\n",
    "coeff6 = factor*pol.subs(g1,0).subs(g2,0).subs(g3,1).subs(g4,0).subs(g5,0).subs(M,Q*M_Q)\n",
    "coeff7 = factor*pol.subs(g1,0).subs(g2,0).subs(g3,0).subs(g4,1).subs(g5,0).subs(M,Q*M_Q)\n",
    "coeff8 = factor*pol.subs(g1,0).subs(g2,0).subs(g3,0).subs(g4,0).subs(g5,1).subs(M,Q*M_Q)\n",
    "\n",
    "display(coeff4.simplify())\n",
    "display(coeff5.simplify())\n",
    "display(coeff6.simplify())\n",
    "display(coeff7.simplify().factor(x,y))\n",
    "display(coeff8.simplify().factor(x,y))"
   ]
  },
  {
   "cell_type": "markdown",
   "id": "8e9896e8",
   "metadata": {},
   "source": [
    "# Derive Projectors"
   ]
  },
  {
   "cell_type": "code",
   "execution_count": null,
   "id": "015ffe2b",
   "metadata": {},
   "outputs": [],
   "source": []
  },
  {
   "cell_type": "code",
   "execution_count": null,
   "id": "40be35c4",
   "metadata": {},
   "outputs": [],
   "source": []
  },
  {
   "cell_type": "code",
   "execution_count": null,
   "id": "e724d53b",
   "metadata": {},
   "outputs": [],
   "source": []
  },
  {
   "cell_type": "code",
   "execution_count": null,
   "id": "fb4b0bb7",
   "metadata": {},
   "outputs": [],
   "source": []
  },
  {
   "cell_type": "code",
   "execution_count": null,
   "id": "3ba4ccf4",
   "metadata": {},
   "outputs": [],
   "source": []
  },
  {
   "cell_type": "code",
   "execution_count": null,
   "id": "31639db0",
   "metadata": {},
   "outputs": [],
   "source": []
  }
 ],
 "metadata": {
  "kernelspec": {
   "display_name": "Python 3",
   "language": "python",
   "name": "python3"
  },
  "language_info": {
   "codemirror_mode": {
    "name": "ipython",
    "version": 3
   },
   "file_extension": ".py",
   "mimetype": "text/x-python",
   "name": "python",
   "nbconvert_exporter": "python",
   "pygments_lexer": "ipython3",
   "version": "3.8.6"
  }
 },
 "nbformat": 4,
 "nbformat_minor": 5
}
