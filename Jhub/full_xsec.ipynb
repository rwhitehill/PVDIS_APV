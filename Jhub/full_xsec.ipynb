{
 "cells": [
  {
   "cell_type": "code",
   "execution_count": 1,
   "id": "e9993761",
   "metadata": {},
   "outputs": [],
   "source": [
    "import sympy as sp\n",
    "\n",
    "import sys,os,subprocess\n",
    "sys.path.insert(0,'/work/JAM/apps/bin')\n",
    "os.environ[\"PATH\"]='/work/JAM/apps/bin:'+os.environ[\"PATH\"]\n",
    "from qgraf import QGRAF\n",
    "from form import FORM,to_sympy,run_form,run_form2,to_sympy\n",
    "from tools import checkdir,save,load,lprint,lpprint,evalf\n",
    "\n",
    "import sympy as sp\n",
    "from sympy.parsing.sympy_parser import parse_expr\n",
    "from sympy import mathematica_code as mcode\n",
    "from sympy.utilities.lambdify import lambdastr"
   ]
  },
  {
   "cell_type": "markdown",
   "id": "af3a4aa5",
   "metadata": {},
   "source": [
    "# Derive Cross Section"
   ]
  },
  {
   "cell_type": "code",
   "execution_count": 16,
   "id": "25d8da3e",
   "metadata": {},
   "outputs": [
    {
     "data": {
      "text/latex": [
       "$\\displaystyle 2 Q^{2}$"
      ],
      "text/plain": [
       "2*Q**2"
      ]
     },
     "metadata": {},
     "output_type": "display_data"
    },
    {
     "data": {
      "text/latex": [
       "$\\displaystyle \\frac{2 Q^{2} \\cdot \\left(1 - y\\right)}{x y^{2}}$"
      ],
      "text/plain": [
       "2*Q**2*(1 - y)/(x*y**2)"
      ]
     },
     "metadata": {},
     "output_type": "display_data"
    },
    {
     "data": {
      "text/latex": [
       "$\\displaystyle \\frac{Q^{2} \\lambda \\left(y - 2\\right)}{y}$"
      ],
      "text/plain": [
       "Q**2*\\lambda*(y - 2)/y"
      ]
     },
     "metadata": {},
     "output_type": "display_data"
    },
    {
     "data": {
      "text/latex": [
       "$\\displaystyle \\frac{2 Q^{2} \\lambda h \\left(y - 2\\right)}{y}$"
      ],
      "text/plain": [
       "2*Q**2*\\lambda*h*(y - 2)/y"
      ]
     },
     "metadata": {},
     "output_type": "display_data"
    },
    {
     "data": {
      "text/latex": [
       "$\\displaystyle 0$"
      ],
      "text/plain": [
       "0"
      ]
     },
     "metadata": {},
     "output_type": "display_data"
    },
    {
     "data": {
      "text/latex": [
       "$\\displaystyle 0$"
      ],
      "text/plain": [
       "0"
      ]
     },
     "metadata": {},
     "output_type": "display_data"
    },
    {
     "data": {
      "text/latex": [
       "$\\displaystyle \\frac{2 Q^{2} h \\left(y - 1\\right)}{x y^{2}}$"
      ],
      "text/plain": [
       "2*Q**2*h*(y - 1)/(x*y**2)"
      ]
     },
     "metadata": {},
     "output_type": "display_data"
    },
    {
     "data": {
      "text/latex": [
       "$\\displaystyle - 2 Q^{2} h$"
      ],
      "text/plain": [
       "-2*Q**2*h"
      ]
     },
     "metadata": {},
     "output_type": "display_data"
    }
   ],
   "source": [
    "code = '''\n",
    "Off Statistics;\n",
    "Symbols M,Q,lam,E,h;\n",
    "Symbols x,y;\n",
    "Symbols n;\n",
    "Vectors P,q,S;\n",
    "Vectors Phat,Shat;\n",
    "Vectors l,lp;\n",
    "Autodeclare Vector V;\n",
    "Tensor ghat;\n",
    "Autodeclare Index o;\n",
    "Autodeclare Symbols F,g;\n",
    "Cfunction dot,e(antisymmetric);\n",
    "\n",
    "L [L] = 2*(l(o1)*lp(o2) + lp(o1)*l(o2) - l.lp*d_(o1,o2) - I_*lam*e(o1,o2,o3,o4)*l(o3)*lp(o4));\n",
    "L [Wu] = -(d_(o1,o2) - q(o1)*q(o2)/q^2)*F1 + (P(o1) - P.q/q^2*q(o1))*(P(o2) - P.q/q^2*q(o2))*F2/P.q - I_*e(o1,o2,o5,o6)*q(o5)*P(o6)*F3/2/P.q;\n",
    "L [Wp] = I_*e(o1,o2,o5,o6)*q(o5)*(S(o6)*g1 + (S(o6) - S.q/P.q*P(o6))*g2)/P.q\n",
    "        +(((P(o1) - P.q/q^2*q(o1))*(S(o2) - S.q/q^2*q(o2)) + (S(o1) - S.q/q^2*q(o1))*(P(o2) - P.q/q^2*q(o2)))/2 \n",
    "            - S.q/P.q*(P(o1) - P.q/q^2*q(o1))*(P(o2) - P.q/q^2*q(o2)))*g3/P.q\n",
    "        + S.q/P.q*((P(o1) - P.q/q^2*q(o1))*(P(o2) - P.q/q^2*q(o2))*g4/P.q -(d_(o1,o2) - q(o1)*q(o2)/q^2)*g5);\n",
    "L [W] = [Wu] + [Wp];\n",
    "\n",
    "L [LW] = [L]*[W];\n",
    "\n",
    "*contract;\n",
    "id e(o1,o2,o3?,o4?)*e(o1,o2,o5?,o6?) = -2*(d_(o3,o5)*d_(o4,o6) - d_(o3,o6)*d_(o4,o5));\n",
    "id lp = l - q;\n",
    "id P.S = 0;\n",
    "id P.P = M^2;\n",
    "id S.l = -h*E*M;*Q^2/2/x/y;\n",
    "id S.q = -h*E*M*(y+Q^2/2/E^2);*-h*Q^2/2/x*(1+2*x^2*y*M^2/Q^2);\n",
    "id E = Q^2/2/M/x/y;\n",
    "id E^n? = (Q^2/2/M/x/y)^n;\n",
    "id E^-n? = (Q^2/2/M/x/y)^-n;\n",
    "id l.l = 0;\n",
    "id q.q = -Q^2;\n",
    "id P.l = P.q/y;\n",
    "id P.q = Q^2/2/x;\n",
    "id P.q^-1 = 2*x/Q^2;\n",
    "id q.l = -Q^2/2;\n",
    "id V1?.V2? = dot(V1,V2);\n",
    "id V1?.V2?^n? = (dot(V1,V2))^n;\n",
    "id V1?.V2?^-n? = (dot(V1,V2))^-n;\n",
    "\n",
    "print [LW];\n",
    "'''\n",
    "data = run_form(code,verb=0)\n",
    "\n",
    "data['LW'] = data['LW'].replace(r'Q','q').replace('E','e').replace('S','s')\n",
    "data['LW'] = data['LW'].replace(r'sqrt_','sqrt')\n",
    "data['LW'] = to_sympy(data['LW'])\n",
    "\n",
    "lam  = sp.symbols(r'\\lambda')\n",
    "h    = sp.symbols(r'h')\n",
    "M    = sp.symbols(r'M')\n",
    "Q    = sp.symbols(r'Q')\n",
    "E    = sp.symbols(r'E')\n",
    "x    = sp.symbols(r'x')\n",
    "y    = sp.symbols(r'y')\n",
    "alfa = sp.symbols(r'\\alpha')\n",
    "F1,F2,F3       = sp.symbols('F_1 F_2 F_3')\n",
    "g1,g2,g3,g4,g5 = sp.symbols('g_1 g_2 g_3 g_4 g_5')\n",
    "\n",
    "\n",
    "data['LW'] = data['LW'].subs(r'lam',lam)\n",
    "data['LW'] = data['LW'].subs('q',Q).subs('e',E).subs('M',M)\n",
    "data['LW'] = data['LW'].subs('F1',F1).subs('F2',F2).subs('F3',F3)\n",
    "data['LW'] = data['LW'].subs('g1',g1).subs('g2',g2).subs('g3',g3).subs('g4',g4).subs('g5',g5)\n",
    "data['LW'] = data['LW'].subs(M,0)\n",
    "data['LW'] = data['LW'].simplify().factor(F1,F2,F3,g1,g2,g3,g4,g5)\n",
    "\n",
    "coeff1 = data['LW'].subs(F1,1).subs(F2,0).subs(F3,0).subs(g1,0).subs(g2,0).subs(g3,0).subs(g4,0).subs(g5,0)\n",
    "coeff2 = data['LW'].subs(F1,0).subs(F2,1).subs(F3,0).subs(g1,0).subs(g2,0).subs(g3,0).subs(g4,0).subs(g5,0)\n",
    "coeff3 = data['LW'].subs(F1,0).subs(F2,0).subs(F3,1).subs(g1,0).subs(g2,0).subs(g3,0).subs(g4,0).subs(g5,0)\n",
    "coeff4 = data['LW'].subs(F1,0).subs(F2,0).subs(F3,0).subs(g1,1).subs(g2,0).subs(g3,0).subs(g4,0).subs(g5,0)\n",
    "coeff5 = data['LW'].subs(F1,0).subs(F2,0).subs(F3,0).subs(g1,0).subs(g2,1).subs(g3,0).subs(g4,0).subs(g5,0)\n",
    "coeff6 = data['LW'].subs(F1,0).subs(F2,0).subs(F3,0).subs(g1,0).subs(g2,0).subs(g3,1).subs(g4,0).subs(g5,0)\n",
    "coeff7 = data['LW'].subs(F1,0).subs(F2,0).subs(F3,0).subs(g1,0).subs(g2,0).subs(g3,0).subs(g4,1).subs(g5,0)\n",
    "coeff8 = data['LW'].subs(F1,0).subs(F2,0).subs(F3,0).subs(g1,0).subs(g2,0).subs(g3,0).subs(g4,0).subs(g5,1)\n",
    "\n",
    "display(coeff1.simplify())\n",
    "display(coeff2.simplify())\n",
    "display(coeff3.simplify())\n",
    "display(coeff4.simplify())\n",
    "display(coeff5.simplify())\n",
    "display(coeff6.simplify())\n",
    "display(coeff7.simplify())#.factor(x,y))\n",
    "display(coeff8.simplify())#.factor(x,y))\n",
    "# display(data['LW'].simplify().factor(F1,F2,F3,g1,g2,g3,g4,g5))"
   ]
  },
  {
   "cell_type": "code",
   "execution_count": null,
   "id": "7dbe5a69",
   "metadata": {},
   "outputs": [],
   "source": []
  },
  {
   "cell_type": "code",
   "execution_count": null,
   "id": "a4a938da",
   "metadata": {},
   "outputs": [],
   "source": []
  },
  {
   "cell_type": "code",
   "execution_count": null,
   "id": "120d3e27",
   "metadata": {},
   "outputs": [],
   "source": []
  },
  {
   "cell_type": "code",
   "execution_count": null,
   "id": "479e57b5",
   "metadata": {},
   "outputs": [],
   "source": []
  },
  {
   "cell_type": "code",
   "execution_count": null,
   "id": "5fd2e4e3",
   "metadata": {},
   "outputs": [],
   "source": []
  },
  {
   "cell_type": "code",
   "execution_count": null,
   "id": "93bfa60d",
   "metadata": {},
   "outputs": [],
   "source": []
  }
 ],
 "metadata": {
  "kernelspec": {
   "display_name": "Python 3",
   "language": "python",
   "name": "python3"
  },
  "language_info": {
   "codemirror_mode": {
    "name": "ipython",
    "version": 3
   },
   "file_extension": ".py",
   "mimetype": "text/x-python",
   "name": "python",
   "nbconvert_exporter": "python",
   "pygments_lexer": "ipython3",
   "version": "3.8.6"
  }
 },
 "nbformat": 4,
 "nbformat_minor": 5
}
